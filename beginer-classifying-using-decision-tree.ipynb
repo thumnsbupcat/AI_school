{
 "cells": [
  {
   "cell_type": "code",
   "execution_count": 1,
   "id": "2f781a7c",
   "metadata": {
    "_cell_guid": "b1076dfc-b9ad-4769-8c92-a6c4dae69d19",
    "_uuid": "8f2839f25d086af736a60e9eeb907d3b93b6e0e5",
    "execution": {
     "iopub.execute_input": "2023-02-12T12:40:50.781301Z",
     "iopub.status.busy": "2023-02-12T12:40:50.780792Z",
     "iopub.status.idle": "2023-02-12T12:40:50.796505Z",
     "shell.execute_reply": "2023-02-12T12:40:50.795288Z"
    },
    "papermill": {
     "duration": 0.038561,
     "end_time": "2023-02-12T12:40:50.799237",
     "exception": false,
     "start_time": "2023-02-12T12:40:50.760676",
     "status": "completed"
    },
    "tags": []
   },
   "outputs": [
    {
     "name": "stdout",
     "output_type": "stream",
     "text": [
      "/kaggle/input/spaceship-titanic/sample_submission.csv\n",
      "/kaggle/input/spaceship-titanic/train.csv\n",
      "/kaggle/input/spaceship-titanic/test.csv\n"
     ]
    }
   ],
   "source": [
    "# This Python 3 environment comes with many helpful analytics libraries installed\n",
    "# It is defined by the kaggle/python Docker image: https://github.com/kaggle/docker-python\n",
    "# For example, here's several helpful packages to load\n",
    "\n",
    "import numpy as np # linear algebra\n",
    "import pandas as pd # data processing, CSV file I/O (e.g. pd.read_csv)\n",
    "\n",
    "# Input data files are available in the read-only \"../input/\" directory\n",
    "# For example, running this (by clicking run or pressing Shift+Enter) will list all files under the input directory\n",
    "\n",
    "import os\n",
    "for dirname, _, filenames in os.walk('/kaggle/input'):\n",
    "    for filename in filenames:\n",
    "        print(os.path.join(dirname, filename))\n",
    "\n",
    "# You can write up to 20GB to the current directory (/kaggle/working/) that gets preserved as output when you create a version using \"Save & Run All\" \n",
    "# You can also write temporary files to /kaggle/temp/, but they won't be saved outside of the current session"
   ]
  },
  {
   "cell_type": "code",
   "execution_count": 2,
   "id": "50d3ed69",
   "metadata": {
    "execution": {
     "iopub.execute_input": "2023-02-12T12:40:50.835790Z",
     "iopub.status.busy": "2023-02-12T12:40:50.835127Z",
     "iopub.status.idle": "2023-02-12T12:40:51.910818Z",
     "shell.execute_reply": "2023-02-12T12:40:51.909524Z"
    },
    "papermill": {
     "duration": 1.09592,
     "end_time": "2023-02-12T12:40:51.913486",
     "exception": false,
     "start_time": "2023-02-12T12:40:50.817566",
     "status": "completed"
    },
    "tags": []
   },
   "outputs": [],
   "source": [
    "import seaborn as sns\n",
    "import matplotlib.pyplot as plt\n",
    "import warnings"
   ]
  },
  {
   "cell_type": "markdown",
   "id": "efaf5392",
   "metadata": {
    "papermill": {
     "duration": 0.015362,
     "end_time": "2023-02-12T12:40:51.944980",
     "exception": false,
     "start_time": "2023-02-12T12:40:51.929618",
     "status": "completed"
    },
    "tags": []
   },
   "source": [
    "* **PassengerId** - A unique Id for each passenger. Each Id takes the form gggg_pp where gggg indicates a group the passenger is travelling with and pp is their number within the group. People in a group are often family members, but not always.\n",
    "* **HomePlanet** - The planet the passenger departed from, typically their planet of permanent residence.\n",
    "* **CryoSleep** - Indicates whether the passenger elected to be put into suspended animation for the duration of the voyage. Passengers in cryosleep are confined to their cabins.\n",
    "* **Cabin** - The cabin number where the passenger is staying. Takes the form deck/num/side, where side can be either P for Port or S for Starboard.\n",
    "* **Destination** - The planet the passenger will be debarking to.\n",
    "* **Age** - The age of the passenger.\n",
    "* **VIP** - Whether the passenger has paid for special VIP service during the voyage.\n",
    "* **RoomService, FoodCourt, ShoppingMall, Spa, VRDeck** - Amount the passenger has billed at each of the Spaceship Titanic's many luxury amenities.\n",
    "* **Name** - The first and last names of the passenger.\n",
    "* **Transported** - Whether the passenger was transported to another dimension. This is the target, the column you are trying to predict."
   ]
  },
  {
   "cell_type": "markdown",
   "id": "43d65c1c",
   "metadata": {
    "papermill": {
     "duration": 0.015192,
     "end_time": "2023-02-12T12:40:51.975894",
     "exception": false,
     "start_time": "2023-02-12T12:40:51.960702",
     "status": "completed"
    },
    "tags": []
   },
   "source": [
    "# Import Data"
   ]
  },
  {
   "cell_type": "code",
   "execution_count": 3,
   "id": "27429e4f",
   "metadata": {
    "execution": {
     "iopub.execute_input": "2023-02-12T12:40:52.009016Z",
     "iopub.status.busy": "2023-02-12T12:40:52.008582Z",
     "iopub.status.idle": "2023-02-12T12:40:52.097002Z",
     "shell.execute_reply": "2023-02-12T12:40:52.095815Z"
    },
    "papermill": {
     "duration": 0.108098,
     "end_time": "2023-02-12T12:40:52.099742",
     "exception": false,
     "start_time": "2023-02-12T12:40:51.991644",
     "status": "completed"
    },
    "tags": []
   },
   "outputs": [],
   "source": [
    "train = pd.read_csv('/kaggle/input/spaceship-titanic/train.csv')\n",
    "test = pd.read_csv('/kaggle/input/spaceship-titanic/test.csv')\n",
    "sample_submission = pd.read_csv('/kaggle/input/spaceship-titanic/sample_submission.csv')\n",
    "\n",
    "\n",
    "\n",
    "warnings.filterwarnings(action='ignore') "
   ]
  },
  {
   "cell_type": "code",
   "execution_count": 4,
   "id": "4d458432",
   "metadata": {
    "execution": {
     "iopub.execute_input": "2023-02-12T12:40:52.133396Z",
     "iopub.status.busy": "2023-02-12T12:40:52.132966Z",
     "iopub.status.idle": "2023-02-12T12:40:52.149071Z",
     "shell.execute_reply": "2023-02-12T12:40:52.148132Z"
    },
    "papermill": {
     "duration": 0.035724,
     "end_time": "2023-02-12T12:40:52.151274",
     "exception": false,
     "start_time": "2023-02-12T12:40:52.115550",
     "status": "completed"
    },
    "tags": []
   },
   "outputs": [
    {
     "data": {
      "text/plain": [
       "0       0013_01\n",
       "1       0018_01\n",
       "2       0019_01\n",
       "3       0021_01\n",
       "4       0023_01\n",
       "         ...   \n",
       "4272    9266_02\n",
       "4273    9269_01\n",
       "4274    9271_01\n",
       "4275    9273_01\n",
       "4276    9277_01\n",
       "Name: PassengerId, Length: 4277, dtype: object"
      ]
     },
     "execution_count": 4,
     "metadata": {},
     "output_type": "execute_result"
    }
   ],
   "source": [
    "submission_id = test['PassengerId'] \n",
    "submission_id"
   ]
  },
  {
   "cell_type": "markdown",
   "id": "20a1ca87",
   "metadata": {
    "papermill": {
     "duration": 0.015699,
     "end_time": "2023-02-12T12:40:52.182921",
     "exception": false,
     "start_time": "2023-02-12T12:40:52.167222",
     "status": "completed"
    },
    "tags": []
   },
   "source": [
    "# Data Preprocessing"
   ]
  },
  {
   "cell_type": "code",
   "execution_count": 5,
   "id": "6cf362ec",
   "metadata": {
    "execution": {
     "iopub.execute_input": "2023-02-12T12:40:52.217352Z",
     "iopub.status.busy": "2023-02-12T12:40:52.216499Z",
     "iopub.status.idle": "2023-02-12T12:40:52.284264Z",
     "shell.execute_reply": "2023-02-12T12:40:52.282910Z"
    },
    "papermill": {
     "duration": 0.088047,
     "end_time": "2023-02-12T12:40:52.286871",
     "exception": false,
     "start_time": "2023-02-12T12:40:52.198824",
     "status": "completed"
    },
    "tags": []
   },
   "outputs": [
    {
     "name": "stdout",
     "output_type": "stream",
     "text": [
      "train_shape :  (8693, 14)\n"
     ]
    }
   ],
   "source": [
    "print('train_shape : ',train.shape)\n",
    "\n",
    "df = pd.merge(train,test, how = 'outer')\n",
    "full_index = df['PassengerId']"
   ]
  },
  {
   "cell_type": "code",
   "execution_count": 6,
   "id": "4effcfce",
   "metadata": {
    "execution": {
     "iopub.execute_input": "2023-02-12T12:40:52.320680Z",
     "iopub.status.busy": "2023-02-12T12:40:52.320247Z",
     "iopub.status.idle": "2023-02-12T12:40:52.346746Z",
     "shell.execute_reply": "2023-02-12T12:40:52.345178Z"
    },
    "papermill": {
     "duration": 0.047081,
     "end_time": "2023-02-12T12:40:52.350006",
     "exception": false,
     "start_time": "2023-02-12T12:40:52.302925",
     "status": "completed"
    },
    "tags": []
   },
   "outputs": [
    {
     "name": "stdout",
     "output_type": "stream",
     "text": [
      "<class 'pandas.core.frame.DataFrame'>\n",
      "Int64Index: 12970 entries, 0 to 12969\n",
      "Data columns (total 14 columns):\n",
      " #   Column        Non-Null Count  Dtype  \n",
      "---  ------        --------------  -----  \n",
      " 0   PassengerId   12970 non-null  object \n",
      " 1   HomePlanet    12682 non-null  object \n",
      " 2   CryoSleep     12660 non-null  object \n",
      " 3   Cabin         12671 non-null  object \n",
      " 4   Destination   12696 non-null  object \n",
      " 5   Age           12700 non-null  float64\n",
      " 6   VIP           12674 non-null  object \n",
      " 7   RoomService   12707 non-null  float64\n",
      " 8   FoodCourt     12681 non-null  float64\n",
      " 9   ShoppingMall  12664 non-null  float64\n",
      " 10  Spa           12686 non-null  float64\n",
      " 11  VRDeck        12702 non-null  float64\n",
      " 12  Name          12676 non-null  object \n",
      " 13  Transported   8693 non-null   object \n",
      "dtypes: float64(6), object(8)\n",
      "memory usage: 1.5+ MB\n"
     ]
    }
   ],
   "source": [
    "df.info()"
   ]
  },
  {
   "cell_type": "code",
   "execution_count": 7,
   "id": "896fe8cd",
   "metadata": {
    "execution": {
     "iopub.execute_input": "2023-02-12T12:40:52.384308Z",
     "iopub.status.busy": "2023-02-12T12:40:52.383875Z",
     "iopub.status.idle": "2023-02-12T12:40:52.409975Z",
     "shell.execute_reply": "2023-02-12T12:40:52.408838Z"
    },
    "papermill": {
     "duration": 0.045973,
     "end_time": "2023-02-12T12:40:52.412559",
     "exception": false,
     "start_time": "2023-02-12T12:40:52.366586",
     "status": "completed"
    },
    "tags": []
   },
   "outputs": [
    {
     "data": {
      "text/html": [
       "<div>\n",
       "<style scoped>\n",
       "    .dataframe tbody tr th:only-of-type {\n",
       "        vertical-align: middle;\n",
       "    }\n",
       "\n",
       "    .dataframe tbody tr th {\n",
       "        vertical-align: top;\n",
       "    }\n",
       "\n",
       "    .dataframe thead th {\n",
       "        text-align: right;\n",
       "    }\n",
       "</style>\n",
       "<table border=\"1\" class=\"dataframe\">\n",
       "  <thead>\n",
       "    <tr style=\"text-align: right;\">\n",
       "      <th></th>\n",
       "      <th>PassengerId</th>\n",
       "      <th>HomePlanet</th>\n",
       "      <th>CryoSleep</th>\n",
       "      <th>Cabin</th>\n",
       "      <th>Destination</th>\n",
       "      <th>Age</th>\n",
       "      <th>VIP</th>\n",
       "      <th>RoomService</th>\n",
       "      <th>FoodCourt</th>\n",
       "      <th>ShoppingMall</th>\n",
       "      <th>Spa</th>\n",
       "      <th>VRDeck</th>\n",
       "      <th>Name</th>\n",
       "      <th>Transported</th>\n",
       "    </tr>\n",
       "  </thead>\n",
       "  <tbody>\n",
       "    <tr>\n",
       "      <th>0</th>\n",
       "      <td>0001_01</td>\n",
       "      <td>Europa</td>\n",
       "      <td>False</td>\n",
       "      <td>B/0/P</td>\n",
       "      <td>TRAPPIST-1e</td>\n",
       "      <td>39.0</td>\n",
       "      <td>False</td>\n",
       "      <td>0.0</td>\n",
       "      <td>0.0</td>\n",
       "      <td>0.0</td>\n",
       "      <td>0.0</td>\n",
       "      <td>0.0</td>\n",
       "      <td>Maham Ofracculy</td>\n",
       "      <td>False</td>\n",
       "    </tr>\n",
       "    <tr>\n",
       "      <th>1</th>\n",
       "      <td>0002_01</td>\n",
       "      <td>Earth</td>\n",
       "      <td>False</td>\n",
       "      <td>F/0/S</td>\n",
       "      <td>TRAPPIST-1e</td>\n",
       "      <td>24.0</td>\n",
       "      <td>False</td>\n",
       "      <td>109.0</td>\n",
       "      <td>9.0</td>\n",
       "      <td>25.0</td>\n",
       "      <td>549.0</td>\n",
       "      <td>44.0</td>\n",
       "      <td>Juanna Vines</td>\n",
       "      <td>True</td>\n",
       "    </tr>\n",
       "    <tr>\n",
       "      <th>2</th>\n",
       "      <td>0003_01</td>\n",
       "      <td>Europa</td>\n",
       "      <td>False</td>\n",
       "      <td>A/0/S</td>\n",
       "      <td>TRAPPIST-1e</td>\n",
       "      <td>58.0</td>\n",
       "      <td>True</td>\n",
       "      <td>43.0</td>\n",
       "      <td>3576.0</td>\n",
       "      <td>0.0</td>\n",
       "      <td>6715.0</td>\n",
       "      <td>49.0</td>\n",
       "      <td>Altark Susent</td>\n",
       "      <td>False</td>\n",
       "    </tr>\n",
       "    <tr>\n",
       "      <th>3</th>\n",
       "      <td>0003_02</td>\n",
       "      <td>Europa</td>\n",
       "      <td>False</td>\n",
       "      <td>A/0/S</td>\n",
       "      <td>TRAPPIST-1e</td>\n",
       "      <td>33.0</td>\n",
       "      <td>False</td>\n",
       "      <td>0.0</td>\n",
       "      <td>1283.0</td>\n",
       "      <td>371.0</td>\n",
       "      <td>3329.0</td>\n",
       "      <td>193.0</td>\n",
       "      <td>Solam Susent</td>\n",
       "      <td>False</td>\n",
       "    </tr>\n",
       "    <tr>\n",
       "      <th>4</th>\n",
       "      <td>0004_01</td>\n",
       "      <td>Earth</td>\n",
       "      <td>False</td>\n",
       "      <td>F/1/S</td>\n",
       "      <td>TRAPPIST-1e</td>\n",
       "      <td>16.0</td>\n",
       "      <td>False</td>\n",
       "      <td>303.0</td>\n",
       "      <td>70.0</td>\n",
       "      <td>151.0</td>\n",
       "      <td>565.0</td>\n",
       "      <td>2.0</td>\n",
       "      <td>Willy Santantines</td>\n",
       "      <td>True</td>\n",
       "    </tr>\n",
       "  </tbody>\n",
       "</table>\n",
       "</div>"
      ],
      "text/plain": [
       "  PassengerId HomePlanet CryoSleep  Cabin  Destination   Age    VIP  \\\n",
       "0     0001_01     Europa     False  B/0/P  TRAPPIST-1e  39.0  False   \n",
       "1     0002_01      Earth     False  F/0/S  TRAPPIST-1e  24.0  False   \n",
       "2     0003_01     Europa     False  A/0/S  TRAPPIST-1e  58.0   True   \n",
       "3     0003_02     Europa     False  A/0/S  TRAPPIST-1e  33.0  False   \n",
       "4     0004_01      Earth     False  F/1/S  TRAPPIST-1e  16.0  False   \n",
       "\n",
       "   RoomService  FoodCourt  ShoppingMall     Spa  VRDeck               Name  \\\n",
       "0          0.0        0.0           0.0     0.0     0.0    Maham Ofracculy   \n",
       "1        109.0        9.0          25.0   549.0    44.0       Juanna Vines   \n",
       "2         43.0     3576.0           0.0  6715.0    49.0      Altark Susent   \n",
       "3          0.0     1283.0         371.0  3329.0   193.0       Solam Susent   \n",
       "4        303.0       70.0         151.0   565.0     2.0  Willy Santantines   \n",
       "\n",
       "  Transported  \n",
       "0       False  \n",
       "1        True  \n",
       "2       False  \n",
       "3       False  \n",
       "4        True  "
      ]
     },
     "execution_count": 7,
     "metadata": {},
     "output_type": "execute_result"
    }
   ],
   "source": [
    "df.head()"
   ]
  },
  {
   "cell_type": "code",
   "execution_count": 8,
   "id": "e57a7c00",
   "metadata": {
    "execution": {
     "iopub.execute_input": "2023-02-12T12:40:52.447271Z",
     "iopub.status.busy": "2023-02-12T12:40:52.446795Z",
     "iopub.status.idle": "2023-02-12T12:40:52.478825Z",
     "shell.execute_reply": "2023-02-12T12:40:52.477667Z"
    },
    "papermill": {
     "duration": 0.052394,
     "end_time": "2023-02-12T12:40:52.481623",
     "exception": false,
     "start_time": "2023-02-12T12:40:52.429229",
     "status": "completed"
    },
    "tags": []
   },
   "outputs": [
    {
     "name": "stdout",
     "output_type": "stream",
     "text": [
      "0001_01    1\n",
      "9227_03    1\n",
      "9220_01    1\n",
      "9220_02    1\n",
      "9220_03    1\n",
      "          ..\n",
      "4610_01    1\n",
      "4611_01    1\n",
      "4612_01    1\n",
      "4613_01    1\n",
      "9277_01    1\n",
      "Name: PassengerId, Length: 12970, dtype: int64\n",
      "****************************************\n",
      "Earth     6865\n",
      "Europa    3133\n",
      "Mars      2684\n",
      "Name: HomePlanet, dtype: int64\n",
      "****************************************\n",
      "False    8079\n",
      "True     4581\n",
      "Name: CryoSleep, dtype: int64\n",
      "****************************************\n",
      "G/734/S     8\n",
      "G/160/P     8\n",
      "D/176/S     7\n",
      "G/1476/S    7\n",
      "B/201/P     7\n",
      "           ..\n",
      "E/317/P     1\n",
      "F/1039/P    1\n",
      "F/1038/P    1\n",
      "C/158/P     1\n",
      "G/1498/S    1\n",
      "Name: Cabin, Length: 9825, dtype: int64\n",
      "****************************************\n",
      "TRAPPIST-1e      8871\n",
      "55 Cancri e      2641\n",
      "PSO J318.5-22    1184\n",
      "Name: Destination, dtype: int64\n",
      "****************************************\n",
      "False    12401\n",
      "True       273\n",
      "Name: VIP, dtype: int64\n",
      "****************************************\n",
      "Carry Contrevins      2\n",
      "Dawne Jacobbinson     2\n",
      "Gabria Batestonley    2\n",
      "Loree Wolfernan       2\n",
      "Gwendy Sykess         2\n",
      "                     ..\n",
      "Sadrix Repumparte     1\n",
      "Giamon Gelle          1\n",
      "Mothab Ineedeve       1\n",
      "Naosa Ineedeve        1\n",
      "Lilace Leonzaley      1\n",
      "Name: Name, Length: 12629, dtype: int64\n",
      "****************************************\n",
      "True     4378\n",
      "False    4315\n",
      "Name: Transported, dtype: int64\n",
      "****************************************\n"
     ]
    }
   ],
   "source": [
    "for _ in df.columns.tolist():\n",
    "    if df[_].dtype == 'object':\n",
    "        print(df[_].value_counts())\n",
    "        print('*'*40)"
   ]
  },
  {
   "cell_type": "markdown",
   "id": "5b539992",
   "metadata": {
    "papermill": {
     "duration": 0.016089,
     "end_time": "2023-02-12T12:40:52.514142",
     "exception": false,
     "start_time": "2023-02-12T12:40:52.498053",
     "status": "completed"
    },
    "tags": []
   },
   "source": [
    "### Change data type\n",
    "\n",
    "* boolean -> numeric"
   ]
  },
  {
   "cell_type": "code",
   "execution_count": 9,
   "id": "d2fae0c2",
   "metadata": {
    "execution": {
     "iopub.execute_input": "2023-02-12T12:40:52.549048Z",
     "iopub.status.busy": "2023-02-12T12:40:52.548622Z",
     "iopub.status.idle": "2023-02-12T12:40:52.588319Z",
     "shell.execute_reply": "2023-02-12T12:40:52.587136Z"
    },
    "papermill": {
     "duration": 0.060078,
     "end_time": "2023-02-12T12:40:52.590816",
     "exception": false,
     "start_time": "2023-02-12T12:40:52.530738",
     "status": "completed"
    },
    "tags": []
   },
   "outputs": [
    {
     "data": {
      "text/html": [
       "<div>\n",
       "<style scoped>\n",
       "    .dataframe tbody tr th:only-of-type {\n",
       "        vertical-align: middle;\n",
       "    }\n",
       "\n",
       "    .dataframe tbody tr th {\n",
       "        vertical-align: top;\n",
       "    }\n",
       "\n",
       "    .dataframe thead th {\n",
       "        text-align: right;\n",
       "    }\n",
       "</style>\n",
       "<table border=\"1\" class=\"dataframe\">\n",
       "  <thead>\n",
       "    <tr style=\"text-align: right;\">\n",
       "      <th></th>\n",
       "      <th>PassengerId</th>\n",
       "      <th>HomePlanet</th>\n",
       "      <th>CryoSleep</th>\n",
       "      <th>Cabin</th>\n",
       "      <th>Destination</th>\n",
       "      <th>Age</th>\n",
       "      <th>VIP</th>\n",
       "      <th>RoomService</th>\n",
       "      <th>FoodCourt</th>\n",
       "      <th>ShoppingMall</th>\n",
       "      <th>Spa</th>\n",
       "      <th>VRDeck</th>\n",
       "      <th>Name</th>\n",
       "      <th>Transported</th>\n",
       "    </tr>\n",
       "  </thead>\n",
       "  <tbody>\n",
       "    <tr>\n",
       "      <th>0</th>\n",
       "      <td>0001_01</td>\n",
       "      <td>Europa</td>\n",
       "      <td>0.0</td>\n",
       "      <td>B/0/P</td>\n",
       "      <td>TRAPPIST-1e</td>\n",
       "      <td>39.0</td>\n",
       "      <td>0.0</td>\n",
       "      <td>0.0</td>\n",
       "      <td>0.0</td>\n",
       "      <td>0.0</td>\n",
       "      <td>0.0</td>\n",
       "      <td>0.0</td>\n",
       "      <td>Maham Ofracculy</td>\n",
       "      <td>0.0</td>\n",
       "    </tr>\n",
       "    <tr>\n",
       "      <th>1</th>\n",
       "      <td>0002_01</td>\n",
       "      <td>Earth</td>\n",
       "      <td>0.0</td>\n",
       "      <td>F/0/S</td>\n",
       "      <td>TRAPPIST-1e</td>\n",
       "      <td>24.0</td>\n",
       "      <td>0.0</td>\n",
       "      <td>109.0</td>\n",
       "      <td>9.0</td>\n",
       "      <td>25.0</td>\n",
       "      <td>549.0</td>\n",
       "      <td>44.0</td>\n",
       "      <td>Juanna Vines</td>\n",
       "      <td>1.0</td>\n",
       "    </tr>\n",
       "    <tr>\n",
       "      <th>2</th>\n",
       "      <td>0003_01</td>\n",
       "      <td>Europa</td>\n",
       "      <td>0.0</td>\n",
       "      <td>A/0/S</td>\n",
       "      <td>TRAPPIST-1e</td>\n",
       "      <td>58.0</td>\n",
       "      <td>1.0</td>\n",
       "      <td>43.0</td>\n",
       "      <td>3576.0</td>\n",
       "      <td>0.0</td>\n",
       "      <td>6715.0</td>\n",
       "      <td>49.0</td>\n",
       "      <td>Altark Susent</td>\n",
       "      <td>0.0</td>\n",
       "    </tr>\n",
       "    <tr>\n",
       "      <th>3</th>\n",
       "      <td>0003_02</td>\n",
       "      <td>Europa</td>\n",
       "      <td>0.0</td>\n",
       "      <td>A/0/S</td>\n",
       "      <td>TRAPPIST-1e</td>\n",
       "      <td>33.0</td>\n",
       "      <td>0.0</td>\n",
       "      <td>0.0</td>\n",
       "      <td>1283.0</td>\n",
       "      <td>371.0</td>\n",
       "      <td>3329.0</td>\n",
       "      <td>193.0</td>\n",
       "      <td>Solam Susent</td>\n",
       "      <td>0.0</td>\n",
       "    </tr>\n",
       "    <tr>\n",
       "      <th>4</th>\n",
       "      <td>0004_01</td>\n",
       "      <td>Earth</td>\n",
       "      <td>0.0</td>\n",
       "      <td>F/1/S</td>\n",
       "      <td>TRAPPIST-1e</td>\n",
       "      <td>16.0</td>\n",
       "      <td>0.0</td>\n",
       "      <td>303.0</td>\n",
       "      <td>70.0</td>\n",
       "      <td>151.0</td>\n",
       "      <td>565.0</td>\n",
       "      <td>2.0</td>\n",
       "      <td>Willy Santantines</td>\n",
       "      <td>1.0</td>\n",
       "    </tr>\n",
       "    <tr>\n",
       "      <th>...</th>\n",
       "      <td>...</td>\n",
       "      <td>...</td>\n",
       "      <td>...</td>\n",
       "      <td>...</td>\n",
       "      <td>...</td>\n",
       "      <td>...</td>\n",
       "      <td>...</td>\n",
       "      <td>...</td>\n",
       "      <td>...</td>\n",
       "      <td>...</td>\n",
       "      <td>...</td>\n",
       "      <td>...</td>\n",
       "      <td>...</td>\n",
       "      <td>...</td>\n",
       "    </tr>\n",
       "    <tr>\n",
       "      <th>12965</th>\n",
       "      <td>9266_02</td>\n",
       "      <td>Earth</td>\n",
       "      <td>1.0</td>\n",
       "      <td>G/1496/S</td>\n",
       "      <td>TRAPPIST-1e</td>\n",
       "      <td>34.0</td>\n",
       "      <td>0.0</td>\n",
       "      <td>0.0</td>\n",
       "      <td>0.0</td>\n",
       "      <td>0.0</td>\n",
       "      <td>0.0</td>\n",
       "      <td>0.0</td>\n",
       "      <td>Jeron Peter</td>\n",
       "      <td>NaN</td>\n",
       "    </tr>\n",
       "    <tr>\n",
       "      <th>12966</th>\n",
       "      <td>9269_01</td>\n",
       "      <td>Earth</td>\n",
       "      <td>0.0</td>\n",
       "      <td>NaN</td>\n",
       "      <td>TRAPPIST-1e</td>\n",
       "      <td>42.0</td>\n",
       "      <td>0.0</td>\n",
       "      <td>0.0</td>\n",
       "      <td>847.0</td>\n",
       "      <td>17.0</td>\n",
       "      <td>10.0</td>\n",
       "      <td>144.0</td>\n",
       "      <td>Matty Scheron</td>\n",
       "      <td>NaN</td>\n",
       "    </tr>\n",
       "    <tr>\n",
       "      <th>12967</th>\n",
       "      <td>9271_01</td>\n",
       "      <td>Mars</td>\n",
       "      <td>1.0</td>\n",
       "      <td>D/296/P</td>\n",
       "      <td>55 Cancri e</td>\n",
       "      <td>NaN</td>\n",
       "      <td>0.0</td>\n",
       "      <td>0.0</td>\n",
       "      <td>0.0</td>\n",
       "      <td>0.0</td>\n",
       "      <td>0.0</td>\n",
       "      <td>0.0</td>\n",
       "      <td>Jayrin Pore</td>\n",
       "      <td>NaN</td>\n",
       "    </tr>\n",
       "    <tr>\n",
       "      <th>12968</th>\n",
       "      <td>9273_01</td>\n",
       "      <td>Europa</td>\n",
       "      <td>0.0</td>\n",
       "      <td>D/297/P</td>\n",
       "      <td>NaN</td>\n",
       "      <td>NaN</td>\n",
       "      <td>0.0</td>\n",
       "      <td>0.0</td>\n",
       "      <td>2680.0</td>\n",
       "      <td>0.0</td>\n",
       "      <td>0.0</td>\n",
       "      <td>523.0</td>\n",
       "      <td>Kitakan Conale</td>\n",
       "      <td>NaN</td>\n",
       "    </tr>\n",
       "    <tr>\n",
       "      <th>12969</th>\n",
       "      <td>9277_01</td>\n",
       "      <td>Earth</td>\n",
       "      <td>1.0</td>\n",
       "      <td>G/1498/S</td>\n",
       "      <td>PSO J318.5-22</td>\n",
       "      <td>43.0</td>\n",
       "      <td>0.0</td>\n",
       "      <td>0.0</td>\n",
       "      <td>0.0</td>\n",
       "      <td>0.0</td>\n",
       "      <td>0.0</td>\n",
       "      <td>0.0</td>\n",
       "      <td>Lilace Leonzaley</td>\n",
       "      <td>NaN</td>\n",
       "    </tr>\n",
       "  </tbody>\n",
       "</table>\n",
       "<p>12970 rows × 14 columns</p>\n",
       "</div>"
      ],
      "text/plain": [
       "      PassengerId HomePlanet  CryoSleep     Cabin    Destination   Age  VIP  \\\n",
       "0         0001_01     Europa        0.0     B/0/P    TRAPPIST-1e  39.0  0.0   \n",
       "1         0002_01      Earth        0.0     F/0/S    TRAPPIST-1e  24.0  0.0   \n",
       "2         0003_01     Europa        0.0     A/0/S    TRAPPIST-1e  58.0  1.0   \n",
       "3         0003_02     Europa        0.0     A/0/S    TRAPPIST-1e  33.0  0.0   \n",
       "4         0004_01      Earth        0.0     F/1/S    TRAPPIST-1e  16.0  0.0   \n",
       "...           ...        ...        ...       ...            ...   ...  ...   \n",
       "12965     9266_02      Earth        1.0  G/1496/S    TRAPPIST-1e  34.0  0.0   \n",
       "12966     9269_01      Earth        0.0       NaN    TRAPPIST-1e  42.0  0.0   \n",
       "12967     9271_01       Mars        1.0   D/296/P    55 Cancri e   NaN  0.0   \n",
       "12968     9273_01     Europa        0.0   D/297/P            NaN   NaN  0.0   \n",
       "12969     9277_01      Earth        1.0  G/1498/S  PSO J318.5-22  43.0  0.0   \n",
       "\n",
       "       RoomService  FoodCourt  ShoppingMall     Spa  VRDeck  \\\n",
       "0              0.0        0.0           0.0     0.0     0.0   \n",
       "1            109.0        9.0          25.0   549.0    44.0   \n",
       "2             43.0     3576.0           0.0  6715.0    49.0   \n",
       "3              0.0     1283.0         371.0  3329.0   193.0   \n",
       "4            303.0       70.0         151.0   565.0     2.0   \n",
       "...            ...        ...           ...     ...     ...   \n",
       "12965          0.0        0.0           0.0     0.0     0.0   \n",
       "12966          0.0      847.0          17.0    10.0   144.0   \n",
       "12967          0.0        0.0           0.0     0.0     0.0   \n",
       "12968          0.0     2680.0           0.0     0.0   523.0   \n",
       "12969          0.0        0.0           0.0     0.0     0.0   \n",
       "\n",
       "                    Name  Transported  \n",
       "0        Maham Ofracculy          0.0  \n",
       "1           Juanna Vines          1.0  \n",
       "2          Altark Susent          0.0  \n",
       "3           Solam Susent          0.0  \n",
       "4      Willy Santantines          1.0  \n",
       "...                  ...          ...  \n",
       "12965        Jeron Peter          NaN  \n",
       "12966      Matty Scheron          NaN  \n",
       "12967        Jayrin Pore          NaN  \n",
       "12968     Kitakan Conale          NaN  \n",
       "12969   Lilace Leonzaley          NaN  \n",
       "\n",
       "[12970 rows x 14 columns]"
      ]
     },
     "execution_count": 9,
     "metadata": {},
     "output_type": "execute_result"
    }
   ],
   "source": [
    "df['CryoSleep'] = df['CryoSleep'].map({True:1,\n",
    "                                 False:0})\n",
    "df['VIP'] = df['VIP'].map({True:1,\n",
    "                           False:0})\n",
    "df['Transported'] = df['Transported'].map({True:1,\n",
    "                                 False:0})\n",
    "\n",
    "df"
   ]
  },
  {
   "cell_type": "markdown",
   "id": "9b73569a",
   "metadata": {
    "papermill": {
     "duration": 0.016533,
     "end_time": "2023-02-12T12:40:52.624586",
     "exception": false,
     "start_time": "2023-02-12T12:40:52.608053",
     "status": "completed"
    },
    "tags": []
   },
   "source": [
    "### Create a new column using only the information required by the cabin"
   ]
  },
  {
   "cell_type": "code",
   "execution_count": 10,
   "id": "48664acc",
   "metadata": {
    "execution": {
     "iopub.execute_input": "2023-02-12T12:40:52.659957Z",
     "iopub.status.busy": "2023-02-12T12:40:52.659548Z",
     "iopub.status.idle": "2023-02-12T12:40:52.668585Z",
     "shell.execute_reply": "2023-02-12T12:40:52.667485Z"
    },
    "papermill": {
     "duration": 0.029359,
     "end_time": "2023-02-12T12:40:52.670780",
     "exception": false,
     "start_time": "2023-02-12T12:40:52.641421",
     "status": "completed"
    },
    "tags": []
   },
   "outputs": [
    {
     "data": {
      "text/plain": [
       "0           B/0/P\n",
       "1           F/0/S\n",
       "2           A/0/S\n",
       "3           A/0/S\n",
       "4           F/1/S\n",
       "           ...   \n",
       "12965    G/1496/S\n",
       "12966         NaN\n",
       "12967     D/296/P\n",
       "12968     D/297/P\n",
       "12969    G/1498/S\n",
       "Name: Cabin, Length: 12970, dtype: object"
      ]
     },
     "execution_count": 10,
     "metadata": {},
     "output_type": "execute_result"
    }
   ],
   "source": [
    "df['Cabin']"
   ]
  },
  {
   "cell_type": "code",
   "execution_count": 11,
   "id": "61d6aa75",
   "metadata": {
    "execution": {
     "iopub.execute_input": "2023-02-12T12:40:52.707101Z",
     "iopub.status.busy": "2023-02-12T12:40:52.706672Z",
     "iopub.status.idle": "2023-02-12T12:40:52.762137Z",
     "shell.execute_reply": "2023-02-12T12:40:52.760984Z"
    },
    "papermill": {
     "duration": 0.076269,
     "end_time": "2023-02-12T12:40:52.764569",
     "exception": false,
     "start_time": "2023-02-12T12:40:52.688300",
     "status": "completed"
    },
    "tags": []
   },
   "outputs": [
    {
     "data": {
      "text/html": [
       "<div>\n",
       "<style scoped>\n",
       "    .dataframe tbody tr th:only-of-type {\n",
       "        vertical-align: middle;\n",
       "    }\n",
       "\n",
       "    .dataframe tbody tr th {\n",
       "        vertical-align: top;\n",
       "    }\n",
       "\n",
       "    .dataframe thead th {\n",
       "        text-align: right;\n",
       "    }\n",
       "</style>\n",
       "<table border=\"1\" class=\"dataframe\">\n",
       "  <thead>\n",
       "    <tr style=\"text-align: right;\">\n",
       "      <th></th>\n",
       "      <th>PassengerId</th>\n",
       "      <th>HomePlanet</th>\n",
       "      <th>CryoSleep</th>\n",
       "      <th>Destination</th>\n",
       "      <th>Age</th>\n",
       "      <th>VIP</th>\n",
       "      <th>RoomService</th>\n",
       "      <th>FoodCourt</th>\n",
       "      <th>ShoppingMall</th>\n",
       "      <th>Spa</th>\n",
       "      <th>VRDeck</th>\n",
       "      <th>Name</th>\n",
       "      <th>Transported</th>\n",
       "      <th>cabin</th>\n",
       "      <th>side</th>\n",
       "    </tr>\n",
       "  </thead>\n",
       "  <tbody>\n",
       "    <tr>\n",
       "      <th>0</th>\n",
       "      <td>0001_01</td>\n",
       "      <td>Europa</td>\n",
       "      <td>0.0</td>\n",
       "      <td>TRAPPIST-1e</td>\n",
       "      <td>39.0</td>\n",
       "      <td>0.0</td>\n",
       "      <td>0.0</td>\n",
       "      <td>0.0</td>\n",
       "      <td>0.0</td>\n",
       "      <td>0.0</td>\n",
       "      <td>0.0</td>\n",
       "      <td>Maham Ofracculy</td>\n",
       "      <td>0.0</td>\n",
       "      <td>B</td>\n",
       "      <td>P</td>\n",
       "    </tr>\n",
       "    <tr>\n",
       "      <th>1</th>\n",
       "      <td>0002_01</td>\n",
       "      <td>Earth</td>\n",
       "      <td>0.0</td>\n",
       "      <td>TRAPPIST-1e</td>\n",
       "      <td>24.0</td>\n",
       "      <td>0.0</td>\n",
       "      <td>109.0</td>\n",
       "      <td>9.0</td>\n",
       "      <td>25.0</td>\n",
       "      <td>549.0</td>\n",
       "      <td>44.0</td>\n",
       "      <td>Juanna Vines</td>\n",
       "      <td>1.0</td>\n",
       "      <td>F</td>\n",
       "      <td>S</td>\n",
       "    </tr>\n",
       "    <tr>\n",
       "      <th>2</th>\n",
       "      <td>0003_01</td>\n",
       "      <td>Europa</td>\n",
       "      <td>0.0</td>\n",
       "      <td>TRAPPIST-1e</td>\n",
       "      <td>58.0</td>\n",
       "      <td>1.0</td>\n",
       "      <td>43.0</td>\n",
       "      <td>3576.0</td>\n",
       "      <td>0.0</td>\n",
       "      <td>6715.0</td>\n",
       "      <td>49.0</td>\n",
       "      <td>Altark Susent</td>\n",
       "      <td>0.0</td>\n",
       "      <td>A</td>\n",
       "      <td>S</td>\n",
       "    </tr>\n",
       "    <tr>\n",
       "      <th>3</th>\n",
       "      <td>0003_02</td>\n",
       "      <td>Europa</td>\n",
       "      <td>0.0</td>\n",
       "      <td>TRAPPIST-1e</td>\n",
       "      <td>33.0</td>\n",
       "      <td>0.0</td>\n",
       "      <td>0.0</td>\n",
       "      <td>1283.0</td>\n",
       "      <td>371.0</td>\n",
       "      <td>3329.0</td>\n",
       "      <td>193.0</td>\n",
       "      <td>Solam Susent</td>\n",
       "      <td>0.0</td>\n",
       "      <td>A</td>\n",
       "      <td>S</td>\n",
       "    </tr>\n",
       "    <tr>\n",
       "      <th>4</th>\n",
       "      <td>0004_01</td>\n",
       "      <td>Earth</td>\n",
       "      <td>0.0</td>\n",
       "      <td>TRAPPIST-1e</td>\n",
       "      <td>16.0</td>\n",
       "      <td>0.0</td>\n",
       "      <td>303.0</td>\n",
       "      <td>70.0</td>\n",
       "      <td>151.0</td>\n",
       "      <td>565.0</td>\n",
       "      <td>2.0</td>\n",
       "      <td>Willy Santantines</td>\n",
       "      <td>1.0</td>\n",
       "      <td>F</td>\n",
       "      <td>S</td>\n",
       "    </tr>\n",
       "    <tr>\n",
       "      <th>...</th>\n",
       "      <td>...</td>\n",
       "      <td>...</td>\n",
       "      <td>...</td>\n",
       "      <td>...</td>\n",
       "      <td>...</td>\n",
       "      <td>...</td>\n",
       "      <td>...</td>\n",
       "      <td>...</td>\n",
       "      <td>...</td>\n",
       "      <td>...</td>\n",
       "      <td>...</td>\n",
       "      <td>...</td>\n",
       "      <td>...</td>\n",
       "      <td>...</td>\n",
       "      <td>...</td>\n",
       "    </tr>\n",
       "    <tr>\n",
       "      <th>12965</th>\n",
       "      <td>9266_02</td>\n",
       "      <td>Earth</td>\n",
       "      <td>1.0</td>\n",
       "      <td>TRAPPIST-1e</td>\n",
       "      <td>34.0</td>\n",
       "      <td>0.0</td>\n",
       "      <td>0.0</td>\n",
       "      <td>0.0</td>\n",
       "      <td>0.0</td>\n",
       "      <td>0.0</td>\n",
       "      <td>0.0</td>\n",
       "      <td>Jeron Peter</td>\n",
       "      <td>NaN</td>\n",
       "      <td>G</td>\n",
       "      <td>S</td>\n",
       "    </tr>\n",
       "    <tr>\n",
       "      <th>12966</th>\n",
       "      <td>9269_01</td>\n",
       "      <td>Earth</td>\n",
       "      <td>0.0</td>\n",
       "      <td>TRAPPIST-1e</td>\n",
       "      <td>42.0</td>\n",
       "      <td>0.0</td>\n",
       "      <td>0.0</td>\n",
       "      <td>847.0</td>\n",
       "      <td>17.0</td>\n",
       "      <td>10.0</td>\n",
       "      <td>144.0</td>\n",
       "      <td>Matty Scheron</td>\n",
       "      <td>NaN</td>\n",
       "      <td>NaN</td>\n",
       "      <td>NaN</td>\n",
       "    </tr>\n",
       "    <tr>\n",
       "      <th>12967</th>\n",
       "      <td>9271_01</td>\n",
       "      <td>Mars</td>\n",
       "      <td>1.0</td>\n",
       "      <td>55 Cancri e</td>\n",
       "      <td>NaN</td>\n",
       "      <td>0.0</td>\n",
       "      <td>0.0</td>\n",
       "      <td>0.0</td>\n",
       "      <td>0.0</td>\n",
       "      <td>0.0</td>\n",
       "      <td>0.0</td>\n",
       "      <td>Jayrin Pore</td>\n",
       "      <td>NaN</td>\n",
       "      <td>D</td>\n",
       "      <td>P</td>\n",
       "    </tr>\n",
       "    <tr>\n",
       "      <th>12968</th>\n",
       "      <td>9273_01</td>\n",
       "      <td>Europa</td>\n",
       "      <td>0.0</td>\n",
       "      <td>NaN</td>\n",
       "      <td>NaN</td>\n",
       "      <td>0.0</td>\n",
       "      <td>0.0</td>\n",
       "      <td>2680.0</td>\n",
       "      <td>0.0</td>\n",
       "      <td>0.0</td>\n",
       "      <td>523.0</td>\n",
       "      <td>Kitakan Conale</td>\n",
       "      <td>NaN</td>\n",
       "      <td>D</td>\n",
       "      <td>P</td>\n",
       "    </tr>\n",
       "    <tr>\n",
       "      <th>12969</th>\n",
       "      <td>9277_01</td>\n",
       "      <td>Earth</td>\n",
       "      <td>1.0</td>\n",
       "      <td>PSO J318.5-22</td>\n",
       "      <td>43.0</td>\n",
       "      <td>0.0</td>\n",
       "      <td>0.0</td>\n",
       "      <td>0.0</td>\n",
       "      <td>0.0</td>\n",
       "      <td>0.0</td>\n",
       "      <td>0.0</td>\n",
       "      <td>Lilace Leonzaley</td>\n",
       "      <td>NaN</td>\n",
       "      <td>G</td>\n",
       "      <td>S</td>\n",
       "    </tr>\n",
       "  </tbody>\n",
       "</table>\n",
       "<p>12970 rows × 15 columns</p>\n",
       "</div>"
      ],
      "text/plain": [
       "      PassengerId HomePlanet  CryoSleep    Destination   Age  VIP  \\\n",
       "0         0001_01     Europa        0.0    TRAPPIST-1e  39.0  0.0   \n",
       "1         0002_01      Earth        0.0    TRAPPIST-1e  24.0  0.0   \n",
       "2         0003_01     Europa        0.0    TRAPPIST-1e  58.0  1.0   \n",
       "3         0003_02     Europa        0.0    TRAPPIST-1e  33.0  0.0   \n",
       "4         0004_01      Earth        0.0    TRAPPIST-1e  16.0  0.0   \n",
       "...           ...        ...        ...            ...   ...  ...   \n",
       "12965     9266_02      Earth        1.0    TRAPPIST-1e  34.0  0.0   \n",
       "12966     9269_01      Earth        0.0    TRAPPIST-1e  42.0  0.0   \n",
       "12967     9271_01       Mars        1.0    55 Cancri e   NaN  0.0   \n",
       "12968     9273_01     Europa        0.0            NaN   NaN  0.0   \n",
       "12969     9277_01      Earth        1.0  PSO J318.5-22  43.0  0.0   \n",
       "\n",
       "       RoomService  FoodCourt  ShoppingMall     Spa  VRDeck  \\\n",
       "0              0.0        0.0           0.0     0.0     0.0   \n",
       "1            109.0        9.0          25.0   549.0    44.0   \n",
       "2             43.0     3576.0           0.0  6715.0    49.0   \n",
       "3              0.0     1283.0         371.0  3329.0   193.0   \n",
       "4            303.0       70.0         151.0   565.0     2.0   \n",
       "...            ...        ...           ...     ...     ...   \n",
       "12965          0.0        0.0           0.0     0.0     0.0   \n",
       "12966          0.0      847.0          17.0    10.0   144.0   \n",
       "12967          0.0        0.0           0.0     0.0     0.0   \n",
       "12968          0.0     2680.0           0.0     0.0   523.0   \n",
       "12969          0.0        0.0           0.0     0.0     0.0   \n",
       "\n",
       "                    Name  Transported cabin side  \n",
       "0        Maham Ofracculy          0.0     B    P  \n",
       "1           Juanna Vines          1.0     F    S  \n",
       "2          Altark Susent          0.0     A    S  \n",
       "3           Solam Susent          0.0     A    S  \n",
       "4      Willy Santantines          1.0     F    S  \n",
       "...                  ...          ...   ...  ...  \n",
       "12965        Jeron Peter          NaN     G    S  \n",
       "12966      Matty Scheron          NaN   NaN  NaN  \n",
       "12967        Jayrin Pore          NaN     D    P  \n",
       "12968     Kitakan Conale          NaN     D    P  \n",
       "12969   Lilace Leonzaley          NaN     G    S  \n",
       "\n",
       "[12970 rows x 15 columns]"
      ]
     },
     "execution_count": 11,
     "metadata": {},
     "output_type": "execute_result"
    }
   ],
   "source": [
    "df['cabin'] = df['Cabin'].str[0]\n",
    "df['side'] = df['Cabin'].str[-1]\n",
    "\n",
    "df = df.drop('Cabin',axis = 1)\n",
    "df"
   ]
  },
  {
   "cell_type": "markdown",
   "id": "066f9cdb",
   "metadata": {
    "papermill": {
     "duration": 0.017355,
     "end_time": "2023-02-12T12:40:52.799770",
     "exception": false,
     "start_time": "2023-02-12T12:40:52.782415",
     "status": "completed"
    },
    "tags": []
   },
   "source": [
    "### Create Derived Variables\n",
    "### From full name to last name."
   ]
  },
  {
   "cell_type": "code",
   "execution_count": 12,
   "id": "16ac3dee",
   "metadata": {
    "execution": {
     "iopub.execute_input": "2023-02-12T12:40:52.836824Z",
     "iopub.status.busy": "2023-02-12T12:40:52.835840Z",
     "iopub.status.idle": "2023-02-12T12:40:52.881523Z",
     "shell.execute_reply": "2023-02-12T12:40:52.880144Z"
    },
    "papermill": {
     "duration": 0.066866,
     "end_time": "2023-02-12T12:40:52.884119",
     "exception": false,
     "start_time": "2023-02-12T12:40:52.817253",
     "status": "completed"
    },
    "tags": []
   },
   "outputs": [
    {
     "data": {
      "text/html": [
       "<div>\n",
       "<style scoped>\n",
       "    .dataframe tbody tr th:only-of-type {\n",
       "        vertical-align: middle;\n",
       "    }\n",
       "\n",
       "    .dataframe tbody tr th {\n",
       "        vertical-align: top;\n",
       "    }\n",
       "\n",
       "    .dataframe thead th {\n",
       "        text-align: right;\n",
       "    }\n",
       "</style>\n",
       "<table border=\"1\" class=\"dataframe\">\n",
       "  <thead>\n",
       "    <tr style=\"text-align: right;\">\n",
       "      <th></th>\n",
       "      <th>PassengerId</th>\n",
       "      <th>HomePlanet</th>\n",
       "      <th>CryoSleep</th>\n",
       "      <th>Destination</th>\n",
       "      <th>Age</th>\n",
       "      <th>VIP</th>\n",
       "      <th>RoomService</th>\n",
       "      <th>FoodCourt</th>\n",
       "      <th>ShoppingMall</th>\n",
       "      <th>Spa</th>\n",
       "      <th>VRDeck</th>\n",
       "      <th>Name</th>\n",
       "      <th>Transported</th>\n",
       "      <th>cabin</th>\n",
       "      <th>side</th>\n",
       "    </tr>\n",
       "  </thead>\n",
       "  <tbody>\n",
       "    <tr>\n",
       "      <th>0</th>\n",
       "      <td>0001_01</td>\n",
       "      <td>Europa</td>\n",
       "      <td>0.0</td>\n",
       "      <td>TRAPPIST-1e</td>\n",
       "      <td>39.0</td>\n",
       "      <td>0.0</td>\n",
       "      <td>0.0</td>\n",
       "      <td>0.0</td>\n",
       "      <td>0.0</td>\n",
       "      <td>0.0</td>\n",
       "      <td>0.0</td>\n",
       "      <td>Ofracculy</td>\n",
       "      <td>0.0</td>\n",
       "      <td>B</td>\n",
       "      <td>P</td>\n",
       "    </tr>\n",
       "    <tr>\n",
       "      <th>1</th>\n",
       "      <td>0002_01</td>\n",
       "      <td>Earth</td>\n",
       "      <td>0.0</td>\n",
       "      <td>TRAPPIST-1e</td>\n",
       "      <td>24.0</td>\n",
       "      <td>0.0</td>\n",
       "      <td>109.0</td>\n",
       "      <td>9.0</td>\n",
       "      <td>25.0</td>\n",
       "      <td>549.0</td>\n",
       "      <td>44.0</td>\n",
       "      <td>Vines</td>\n",
       "      <td>1.0</td>\n",
       "      <td>F</td>\n",
       "      <td>S</td>\n",
       "    </tr>\n",
       "    <tr>\n",
       "      <th>2</th>\n",
       "      <td>0003_01</td>\n",
       "      <td>Europa</td>\n",
       "      <td>0.0</td>\n",
       "      <td>TRAPPIST-1e</td>\n",
       "      <td>58.0</td>\n",
       "      <td>1.0</td>\n",
       "      <td>43.0</td>\n",
       "      <td>3576.0</td>\n",
       "      <td>0.0</td>\n",
       "      <td>6715.0</td>\n",
       "      <td>49.0</td>\n",
       "      <td>Susent</td>\n",
       "      <td>0.0</td>\n",
       "      <td>A</td>\n",
       "      <td>S</td>\n",
       "    </tr>\n",
       "    <tr>\n",
       "      <th>3</th>\n",
       "      <td>0003_02</td>\n",
       "      <td>Europa</td>\n",
       "      <td>0.0</td>\n",
       "      <td>TRAPPIST-1e</td>\n",
       "      <td>33.0</td>\n",
       "      <td>0.0</td>\n",
       "      <td>0.0</td>\n",
       "      <td>1283.0</td>\n",
       "      <td>371.0</td>\n",
       "      <td>3329.0</td>\n",
       "      <td>193.0</td>\n",
       "      <td>Susent</td>\n",
       "      <td>0.0</td>\n",
       "      <td>A</td>\n",
       "      <td>S</td>\n",
       "    </tr>\n",
       "    <tr>\n",
       "      <th>4</th>\n",
       "      <td>0004_01</td>\n",
       "      <td>Earth</td>\n",
       "      <td>0.0</td>\n",
       "      <td>TRAPPIST-1e</td>\n",
       "      <td>16.0</td>\n",
       "      <td>0.0</td>\n",
       "      <td>303.0</td>\n",
       "      <td>70.0</td>\n",
       "      <td>151.0</td>\n",
       "      <td>565.0</td>\n",
       "      <td>2.0</td>\n",
       "      <td>Santantines</td>\n",
       "      <td>1.0</td>\n",
       "      <td>F</td>\n",
       "      <td>S</td>\n",
       "    </tr>\n",
       "  </tbody>\n",
       "</table>\n",
       "</div>"
      ],
      "text/plain": [
       "  PassengerId HomePlanet  CryoSleep  Destination   Age  VIP  RoomService  \\\n",
       "0     0001_01     Europa        0.0  TRAPPIST-1e  39.0  0.0          0.0   \n",
       "1     0002_01      Earth        0.0  TRAPPIST-1e  24.0  0.0        109.0   \n",
       "2     0003_01     Europa        0.0  TRAPPIST-1e  58.0  1.0         43.0   \n",
       "3     0003_02     Europa        0.0  TRAPPIST-1e  33.0  0.0          0.0   \n",
       "4     0004_01      Earth        0.0  TRAPPIST-1e  16.0  0.0        303.0   \n",
       "\n",
       "   FoodCourt  ShoppingMall     Spa  VRDeck         Name  Transported cabin  \\\n",
       "0        0.0           0.0     0.0     0.0    Ofracculy          0.0     B   \n",
       "1        9.0          25.0   549.0    44.0        Vines          1.0     F   \n",
       "2     3576.0           0.0  6715.0    49.0       Susent          0.0     A   \n",
       "3     1283.0         371.0  3329.0   193.0       Susent          0.0     A   \n",
       "4       70.0         151.0   565.0     2.0  Santantines          1.0     F   \n",
       "\n",
       "  side  \n",
       "0    P  \n",
       "1    S  \n",
       "2    S  \n",
       "3    S  \n",
       "4    S  "
      ]
     },
     "execution_count": 12,
     "metadata": {},
     "output_type": "execute_result"
    }
   ],
   "source": [
    "df['Name']= df['Name'].str.split(' ').str[1]\n",
    "\n",
    "df.head()"
   ]
  },
  {
   "cell_type": "markdown",
   "id": "5c863901",
   "metadata": {
    "papermill": {
     "duration": 0.017584,
     "end_time": "2023-02-12T12:40:52.919806",
     "exception": false,
     "start_time": "2023-02-12T12:40:52.902222",
     "status": "completed"
    },
    "tags": []
   },
   "source": [
    "**PassengerId **- A unique Id for each passenger. Each Id takes the form gggg_pp where gggg indicates a group the passenger is travelling with and pp is their number within the group. People in a group are often family members, but not always.\n",
    "\n",
    "### we can guess the number of families on board with PassengerId."
   ]
  },
  {
   "cell_type": "code",
   "execution_count": 13,
   "id": "46e8de64",
   "metadata": {
    "execution": {
     "iopub.execute_input": "2023-02-12T12:40:52.957985Z",
     "iopub.status.busy": "2023-02-12T12:40:52.957524Z",
     "iopub.status.idle": "2023-02-12T12:40:52.989675Z",
     "shell.execute_reply": "2023-02-12T12:40:52.988510Z"
    },
    "papermill": {
     "duration": 0.054521,
     "end_time": "2023-02-12T12:40:52.992427",
     "exception": false,
     "start_time": "2023-02-12T12:40:52.937906",
     "status": "completed"
    },
    "tags": []
   },
   "outputs": [],
   "source": [
    "df['id'] = [i[0] for i in df['PassengerId'].str.split('_')]\n",
    "df['member'] = [i[1] for i in df['PassengerId'].str.split('_')]"
   ]
  },
  {
   "cell_type": "code",
   "execution_count": 14,
   "id": "4c2fe626",
   "metadata": {
    "execution": {
     "iopub.execute_input": "2023-02-12T12:40:53.031313Z",
     "iopub.status.busy": "2023-02-12T12:40:53.030183Z",
     "iopub.status.idle": "2023-02-12T12:41:07.021549Z",
     "shell.execute_reply": "2023-02-12T12:41:07.020488Z"
    },
    "papermill": {
     "duration": 14.013057,
     "end_time": "2023-02-12T12:41:07.023750",
     "exception": false,
     "start_time": "2023-02-12T12:40:53.010693",
     "status": "completed"
    },
    "tags": []
   },
   "outputs": [
    {
     "data": {
      "text/html": [
       "<div>\n",
       "<style scoped>\n",
       "    .dataframe tbody tr th:only-of-type {\n",
       "        vertical-align: middle;\n",
       "    }\n",
       "\n",
       "    .dataframe tbody tr th {\n",
       "        vertical-align: top;\n",
       "    }\n",
       "\n",
       "    .dataframe thead th {\n",
       "        text-align: right;\n",
       "    }\n",
       "</style>\n",
       "<table border=\"1\" class=\"dataframe\">\n",
       "  <thead>\n",
       "    <tr style=\"text-align: right;\">\n",
       "      <th></th>\n",
       "      <th>PassengerId</th>\n",
       "      <th>HomePlanet</th>\n",
       "      <th>CryoSleep</th>\n",
       "      <th>Destination</th>\n",
       "      <th>Age</th>\n",
       "      <th>VIP</th>\n",
       "      <th>RoomService</th>\n",
       "      <th>FoodCourt</th>\n",
       "      <th>ShoppingMall</th>\n",
       "      <th>Spa</th>\n",
       "      <th>VRDeck</th>\n",
       "      <th>Name</th>\n",
       "      <th>Transported</th>\n",
       "      <th>cabin</th>\n",
       "      <th>side</th>\n",
       "      <th>id</th>\n",
       "      <th>member</th>\n",
       "      <th>FamilySize</th>\n",
       "    </tr>\n",
       "  </thead>\n",
       "  <tbody>\n",
       "    <tr>\n",
       "      <th>0</th>\n",
       "      <td>0001_01</td>\n",
       "      <td>Europa</td>\n",
       "      <td>0.0</td>\n",
       "      <td>TRAPPIST-1e</td>\n",
       "      <td>39.0</td>\n",
       "      <td>0.0</td>\n",
       "      <td>0.0</td>\n",
       "      <td>0.0</td>\n",
       "      <td>0.0</td>\n",
       "      <td>0.0</td>\n",
       "      <td>0.0</td>\n",
       "      <td>Ofracculy</td>\n",
       "      <td>0.0</td>\n",
       "      <td>B</td>\n",
       "      <td>P</td>\n",
       "      <td>0001</td>\n",
       "      <td>01</td>\n",
       "      <td>1</td>\n",
       "    </tr>\n",
       "    <tr>\n",
       "      <th>1</th>\n",
       "      <td>0002_01</td>\n",
       "      <td>Earth</td>\n",
       "      <td>0.0</td>\n",
       "      <td>TRAPPIST-1e</td>\n",
       "      <td>24.0</td>\n",
       "      <td>0.0</td>\n",
       "      <td>109.0</td>\n",
       "      <td>9.0</td>\n",
       "      <td>25.0</td>\n",
       "      <td>549.0</td>\n",
       "      <td>44.0</td>\n",
       "      <td>Vines</td>\n",
       "      <td>1.0</td>\n",
       "      <td>F</td>\n",
       "      <td>S</td>\n",
       "      <td>0002</td>\n",
       "      <td>01</td>\n",
       "      <td>1</td>\n",
       "    </tr>\n",
       "    <tr>\n",
       "      <th>2</th>\n",
       "      <td>0003_01</td>\n",
       "      <td>Europa</td>\n",
       "      <td>0.0</td>\n",
       "      <td>TRAPPIST-1e</td>\n",
       "      <td>58.0</td>\n",
       "      <td>1.0</td>\n",
       "      <td>43.0</td>\n",
       "      <td>3576.0</td>\n",
       "      <td>0.0</td>\n",
       "      <td>6715.0</td>\n",
       "      <td>49.0</td>\n",
       "      <td>Susent</td>\n",
       "      <td>0.0</td>\n",
       "      <td>A</td>\n",
       "      <td>S</td>\n",
       "      <td>0003</td>\n",
       "      <td>01</td>\n",
       "      <td>2</td>\n",
       "    </tr>\n",
       "    <tr>\n",
       "      <th>3</th>\n",
       "      <td>0003_02</td>\n",
       "      <td>Europa</td>\n",
       "      <td>0.0</td>\n",
       "      <td>TRAPPIST-1e</td>\n",
       "      <td>33.0</td>\n",
       "      <td>0.0</td>\n",
       "      <td>0.0</td>\n",
       "      <td>1283.0</td>\n",
       "      <td>371.0</td>\n",
       "      <td>3329.0</td>\n",
       "      <td>193.0</td>\n",
       "      <td>Susent</td>\n",
       "      <td>0.0</td>\n",
       "      <td>A</td>\n",
       "      <td>S</td>\n",
       "      <td>0003</td>\n",
       "      <td>02</td>\n",
       "      <td>2</td>\n",
       "    </tr>\n",
       "    <tr>\n",
       "      <th>4</th>\n",
       "      <td>0004_01</td>\n",
       "      <td>Earth</td>\n",
       "      <td>0.0</td>\n",
       "      <td>TRAPPIST-1e</td>\n",
       "      <td>16.0</td>\n",
       "      <td>0.0</td>\n",
       "      <td>303.0</td>\n",
       "      <td>70.0</td>\n",
       "      <td>151.0</td>\n",
       "      <td>565.0</td>\n",
       "      <td>2.0</td>\n",
       "      <td>Santantines</td>\n",
       "      <td>1.0</td>\n",
       "      <td>F</td>\n",
       "      <td>S</td>\n",
       "      <td>0004</td>\n",
       "      <td>01</td>\n",
       "      <td>1</td>\n",
       "    </tr>\n",
       "    <tr>\n",
       "      <th>...</th>\n",
       "      <td>...</td>\n",
       "      <td>...</td>\n",
       "      <td>...</td>\n",
       "      <td>...</td>\n",
       "      <td>...</td>\n",
       "      <td>...</td>\n",
       "      <td>...</td>\n",
       "      <td>...</td>\n",
       "      <td>...</td>\n",
       "      <td>...</td>\n",
       "      <td>...</td>\n",
       "      <td>...</td>\n",
       "      <td>...</td>\n",
       "      <td>...</td>\n",
       "      <td>...</td>\n",
       "      <td>...</td>\n",
       "      <td>...</td>\n",
       "      <td>...</td>\n",
       "    </tr>\n",
       "    <tr>\n",
       "      <th>12965</th>\n",
       "      <td>9266_02</td>\n",
       "      <td>Earth</td>\n",
       "      <td>1.0</td>\n",
       "      <td>TRAPPIST-1e</td>\n",
       "      <td>34.0</td>\n",
       "      <td>0.0</td>\n",
       "      <td>0.0</td>\n",
       "      <td>0.0</td>\n",
       "      <td>0.0</td>\n",
       "      <td>0.0</td>\n",
       "      <td>0.0</td>\n",
       "      <td>Peter</td>\n",
       "      <td>NaN</td>\n",
       "      <td>G</td>\n",
       "      <td>S</td>\n",
       "      <td>9266</td>\n",
       "      <td>02</td>\n",
       "      <td>2</td>\n",
       "    </tr>\n",
       "    <tr>\n",
       "      <th>12966</th>\n",
       "      <td>9269_01</td>\n",
       "      <td>Earth</td>\n",
       "      <td>0.0</td>\n",
       "      <td>TRAPPIST-1e</td>\n",
       "      <td>42.0</td>\n",
       "      <td>0.0</td>\n",
       "      <td>0.0</td>\n",
       "      <td>847.0</td>\n",
       "      <td>17.0</td>\n",
       "      <td>10.0</td>\n",
       "      <td>144.0</td>\n",
       "      <td>Scheron</td>\n",
       "      <td>NaN</td>\n",
       "      <td>NaN</td>\n",
       "      <td>NaN</td>\n",
       "      <td>9269</td>\n",
       "      <td>01</td>\n",
       "      <td>1</td>\n",
       "    </tr>\n",
       "    <tr>\n",
       "      <th>12967</th>\n",
       "      <td>9271_01</td>\n",
       "      <td>Mars</td>\n",
       "      <td>1.0</td>\n",
       "      <td>55 Cancri e</td>\n",
       "      <td>NaN</td>\n",
       "      <td>0.0</td>\n",
       "      <td>0.0</td>\n",
       "      <td>0.0</td>\n",
       "      <td>0.0</td>\n",
       "      <td>0.0</td>\n",
       "      <td>0.0</td>\n",
       "      <td>Pore</td>\n",
       "      <td>NaN</td>\n",
       "      <td>D</td>\n",
       "      <td>P</td>\n",
       "      <td>9271</td>\n",
       "      <td>01</td>\n",
       "      <td>1</td>\n",
       "    </tr>\n",
       "    <tr>\n",
       "      <th>12968</th>\n",
       "      <td>9273_01</td>\n",
       "      <td>Europa</td>\n",
       "      <td>0.0</td>\n",
       "      <td>NaN</td>\n",
       "      <td>NaN</td>\n",
       "      <td>0.0</td>\n",
       "      <td>0.0</td>\n",
       "      <td>2680.0</td>\n",
       "      <td>0.0</td>\n",
       "      <td>0.0</td>\n",
       "      <td>523.0</td>\n",
       "      <td>Conale</td>\n",
       "      <td>NaN</td>\n",
       "      <td>D</td>\n",
       "      <td>P</td>\n",
       "      <td>9273</td>\n",
       "      <td>01</td>\n",
       "      <td>1</td>\n",
       "    </tr>\n",
       "    <tr>\n",
       "      <th>12969</th>\n",
       "      <td>9277_01</td>\n",
       "      <td>Earth</td>\n",
       "      <td>1.0</td>\n",
       "      <td>PSO J318.5-22</td>\n",
       "      <td>43.0</td>\n",
       "      <td>0.0</td>\n",
       "      <td>0.0</td>\n",
       "      <td>0.0</td>\n",
       "      <td>0.0</td>\n",
       "      <td>0.0</td>\n",
       "      <td>0.0</td>\n",
       "      <td>Leonzaley</td>\n",
       "      <td>NaN</td>\n",
       "      <td>G</td>\n",
       "      <td>S</td>\n",
       "      <td>9277</td>\n",
       "      <td>01</td>\n",
       "      <td>1</td>\n",
       "    </tr>\n",
       "  </tbody>\n",
       "</table>\n",
       "<p>12970 rows × 18 columns</p>\n",
       "</div>"
      ],
      "text/plain": [
       "      PassengerId HomePlanet  CryoSleep    Destination   Age  VIP  \\\n",
       "0         0001_01     Europa        0.0    TRAPPIST-1e  39.0  0.0   \n",
       "1         0002_01      Earth        0.0    TRAPPIST-1e  24.0  0.0   \n",
       "2         0003_01     Europa        0.0    TRAPPIST-1e  58.0  1.0   \n",
       "3         0003_02     Europa        0.0    TRAPPIST-1e  33.0  0.0   \n",
       "4         0004_01      Earth        0.0    TRAPPIST-1e  16.0  0.0   \n",
       "...           ...        ...        ...            ...   ...  ...   \n",
       "12965     9266_02      Earth        1.0    TRAPPIST-1e  34.0  0.0   \n",
       "12966     9269_01      Earth        0.0    TRAPPIST-1e  42.0  0.0   \n",
       "12967     9271_01       Mars        1.0    55 Cancri e   NaN  0.0   \n",
       "12968     9273_01     Europa        0.0            NaN   NaN  0.0   \n",
       "12969     9277_01      Earth        1.0  PSO J318.5-22  43.0  0.0   \n",
       "\n",
       "       RoomService  FoodCourt  ShoppingMall     Spa  VRDeck         Name  \\\n",
       "0              0.0        0.0           0.0     0.0     0.0    Ofracculy   \n",
       "1            109.0        9.0          25.0   549.0    44.0        Vines   \n",
       "2             43.0     3576.0           0.0  6715.0    49.0       Susent   \n",
       "3              0.0     1283.0         371.0  3329.0   193.0       Susent   \n",
       "4            303.0       70.0         151.0   565.0     2.0  Santantines   \n",
       "...            ...        ...           ...     ...     ...          ...   \n",
       "12965          0.0        0.0           0.0     0.0     0.0        Peter   \n",
       "12966          0.0      847.0          17.0    10.0   144.0      Scheron   \n",
       "12967          0.0        0.0           0.0     0.0     0.0         Pore   \n",
       "12968          0.0     2680.0           0.0     0.0   523.0       Conale   \n",
       "12969          0.0        0.0           0.0     0.0     0.0    Leonzaley   \n",
       "\n",
       "       Transported cabin side    id member  FamilySize  \n",
       "0              0.0     B    P  0001     01           1  \n",
       "1              1.0     F    S  0002     01           1  \n",
       "2              0.0     A    S  0003     01           2  \n",
       "3              0.0     A    S  0003     02           2  \n",
       "4              1.0     F    S  0004     01           1  \n",
       "...            ...   ...  ...   ...    ...         ...  \n",
       "12965          NaN     G    S  9266     02           2  \n",
       "12966          NaN   NaN  NaN  9269     01           1  \n",
       "12967          NaN     D    P  9271     01           1  \n",
       "12968          NaN     D    P  9273     01           1  \n",
       "12969          NaN     G    S  9277     01           1  \n",
       "\n",
       "[12970 rows x 18 columns]"
      ]
     },
     "execution_count": 14,
     "metadata": {},
     "output_type": "execute_result"
    }
   ],
   "source": [
    "gggg = df.groupby('id').count()['member'].index.tolist()\n",
    "pp = df.groupby('id').count()['member'].values.tolist()\n",
    "\n",
    "df['FamilySize'] = 0\n",
    "\n",
    "for ID,member in zip(gggg,pp):\n",
    "    df.loc[df['id'] == ID,'FamilySize']= member \n",
    "    \n",
    "df"
   ]
  },
  {
   "cell_type": "markdown",
   "id": "aa667ea9",
   "metadata": {
    "papermill": {
     "duration": 0.017826,
     "end_time": "2023-02-12T12:41:07.060157",
     "exception": false,
     "start_time": "2023-02-12T12:41:07.042331",
     "status": "completed"
    },
    "tags": []
   },
   "source": [
    "### Remove unnecessary variables"
   ]
  },
  {
   "cell_type": "code",
   "execution_count": 15,
   "id": "65f254be",
   "metadata": {
    "execution": {
     "iopub.execute_input": "2023-02-12T12:41:07.097856Z",
     "iopub.status.busy": "2023-02-12T12:41:07.097456Z",
     "iopub.status.idle": "2023-02-12T12:41:07.132111Z",
     "shell.execute_reply": "2023-02-12T12:41:07.131086Z"
    },
    "papermill": {
     "duration": 0.056354,
     "end_time": "2023-02-12T12:41:07.134394",
     "exception": false,
     "start_time": "2023-02-12T12:41:07.078040",
     "status": "completed"
    },
    "tags": []
   },
   "outputs": [
    {
     "data": {
      "text/html": [
       "<div>\n",
       "<style scoped>\n",
       "    .dataframe tbody tr th:only-of-type {\n",
       "        vertical-align: middle;\n",
       "    }\n",
       "\n",
       "    .dataframe tbody tr th {\n",
       "        vertical-align: top;\n",
       "    }\n",
       "\n",
       "    .dataframe thead th {\n",
       "        text-align: right;\n",
       "    }\n",
       "</style>\n",
       "<table border=\"1\" class=\"dataframe\">\n",
       "  <thead>\n",
       "    <tr style=\"text-align: right;\">\n",
       "      <th></th>\n",
       "      <th>HomePlanet</th>\n",
       "      <th>CryoSleep</th>\n",
       "      <th>Destination</th>\n",
       "      <th>Age</th>\n",
       "      <th>VIP</th>\n",
       "      <th>RoomService</th>\n",
       "      <th>FoodCourt</th>\n",
       "      <th>ShoppingMall</th>\n",
       "      <th>Spa</th>\n",
       "      <th>VRDeck</th>\n",
       "      <th>Name</th>\n",
       "      <th>Transported</th>\n",
       "      <th>cabin</th>\n",
       "      <th>side</th>\n",
       "      <th>FamilySize</th>\n",
       "    </tr>\n",
       "  </thead>\n",
       "  <tbody>\n",
       "    <tr>\n",
       "      <th>0</th>\n",
       "      <td>Europa</td>\n",
       "      <td>0.0</td>\n",
       "      <td>TRAPPIST-1e</td>\n",
       "      <td>39.0</td>\n",
       "      <td>0.0</td>\n",
       "      <td>0.0</td>\n",
       "      <td>0.0</td>\n",
       "      <td>0.0</td>\n",
       "      <td>0.0</td>\n",
       "      <td>0.0</td>\n",
       "      <td>Ofracculy</td>\n",
       "      <td>0.0</td>\n",
       "      <td>B</td>\n",
       "      <td>P</td>\n",
       "      <td>1</td>\n",
       "    </tr>\n",
       "    <tr>\n",
       "      <th>1</th>\n",
       "      <td>Earth</td>\n",
       "      <td>0.0</td>\n",
       "      <td>TRAPPIST-1e</td>\n",
       "      <td>24.0</td>\n",
       "      <td>0.0</td>\n",
       "      <td>109.0</td>\n",
       "      <td>9.0</td>\n",
       "      <td>25.0</td>\n",
       "      <td>549.0</td>\n",
       "      <td>44.0</td>\n",
       "      <td>Vines</td>\n",
       "      <td>1.0</td>\n",
       "      <td>F</td>\n",
       "      <td>S</td>\n",
       "      <td>1</td>\n",
       "    </tr>\n",
       "    <tr>\n",
       "      <th>2</th>\n",
       "      <td>Europa</td>\n",
       "      <td>0.0</td>\n",
       "      <td>TRAPPIST-1e</td>\n",
       "      <td>58.0</td>\n",
       "      <td>1.0</td>\n",
       "      <td>43.0</td>\n",
       "      <td>3576.0</td>\n",
       "      <td>0.0</td>\n",
       "      <td>6715.0</td>\n",
       "      <td>49.0</td>\n",
       "      <td>Susent</td>\n",
       "      <td>0.0</td>\n",
       "      <td>A</td>\n",
       "      <td>S</td>\n",
       "      <td>2</td>\n",
       "    </tr>\n",
       "    <tr>\n",
       "      <th>3</th>\n",
       "      <td>Europa</td>\n",
       "      <td>0.0</td>\n",
       "      <td>TRAPPIST-1e</td>\n",
       "      <td>33.0</td>\n",
       "      <td>0.0</td>\n",
       "      <td>0.0</td>\n",
       "      <td>1283.0</td>\n",
       "      <td>371.0</td>\n",
       "      <td>3329.0</td>\n",
       "      <td>193.0</td>\n",
       "      <td>Susent</td>\n",
       "      <td>0.0</td>\n",
       "      <td>A</td>\n",
       "      <td>S</td>\n",
       "      <td>2</td>\n",
       "    </tr>\n",
       "    <tr>\n",
       "      <th>4</th>\n",
       "      <td>Earth</td>\n",
       "      <td>0.0</td>\n",
       "      <td>TRAPPIST-1e</td>\n",
       "      <td>16.0</td>\n",
       "      <td>0.0</td>\n",
       "      <td>303.0</td>\n",
       "      <td>70.0</td>\n",
       "      <td>151.0</td>\n",
       "      <td>565.0</td>\n",
       "      <td>2.0</td>\n",
       "      <td>Santantines</td>\n",
       "      <td>1.0</td>\n",
       "      <td>F</td>\n",
       "      <td>S</td>\n",
       "      <td>1</td>\n",
       "    </tr>\n",
       "    <tr>\n",
       "      <th>...</th>\n",
       "      <td>...</td>\n",
       "      <td>...</td>\n",
       "      <td>...</td>\n",
       "      <td>...</td>\n",
       "      <td>...</td>\n",
       "      <td>...</td>\n",
       "      <td>...</td>\n",
       "      <td>...</td>\n",
       "      <td>...</td>\n",
       "      <td>...</td>\n",
       "      <td>...</td>\n",
       "      <td>...</td>\n",
       "      <td>...</td>\n",
       "      <td>...</td>\n",
       "      <td>...</td>\n",
       "    </tr>\n",
       "    <tr>\n",
       "      <th>12965</th>\n",
       "      <td>Earth</td>\n",
       "      <td>1.0</td>\n",
       "      <td>TRAPPIST-1e</td>\n",
       "      <td>34.0</td>\n",
       "      <td>0.0</td>\n",
       "      <td>0.0</td>\n",
       "      <td>0.0</td>\n",
       "      <td>0.0</td>\n",
       "      <td>0.0</td>\n",
       "      <td>0.0</td>\n",
       "      <td>Peter</td>\n",
       "      <td>NaN</td>\n",
       "      <td>G</td>\n",
       "      <td>S</td>\n",
       "      <td>2</td>\n",
       "    </tr>\n",
       "    <tr>\n",
       "      <th>12966</th>\n",
       "      <td>Earth</td>\n",
       "      <td>0.0</td>\n",
       "      <td>TRAPPIST-1e</td>\n",
       "      <td>42.0</td>\n",
       "      <td>0.0</td>\n",
       "      <td>0.0</td>\n",
       "      <td>847.0</td>\n",
       "      <td>17.0</td>\n",
       "      <td>10.0</td>\n",
       "      <td>144.0</td>\n",
       "      <td>Scheron</td>\n",
       "      <td>NaN</td>\n",
       "      <td>NaN</td>\n",
       "      <td>NaN</td>\n",
       "      <td>1</td>\n",
       "    </tr>\n",
       "    <tr>\n",
       "      <th>12967</th>\n",
       "      <td>Mars</td>\n",
       "      <td>1.0</td>\n",
       "      <td>55 Cancri e</td>\n",
       "      <td>NaN</td>\n",
       "      <td>0.0</td>\n",
       "      <td>0.0</td>\n",
       "      <td>0.0</td>\n",
       "      <td>0.0</td>\n",
       "      <td>0.0</td>\n",
       "      <td>0.0</td>\n",
       "      <td>Pore</td>\n",
       "      <td>NaN</td>\n",
       "      <td>D</td>\n",
       "      <td>P</td>\n",
       "      <td>1</td>\n",
       "    </tr>\n",
       "    <tr>\n",
       "      <th>12968</th>\n",
       "      <td>Europa</td>\n",
       "      <td>0.0</td>\n",
       "      <td>NaN</td>\n",
       "      <td>NaN</td>\n",
       "      <td>0.0</td>\n",
       "      <td>0.0</td>\n",
       "      <td>2680.0</td>\n",
       "      <td>0.0</td>\n",
       "      <td>0.0</td>\n",
       "      <td>523.0</td>\n",
       "      <td>Conale</td>\n",
       "      <td>NaN</td>\n",
       "      <td>D</td>\n",
       "      <td>P</td>\n",
       "      <td>1</td>\n",
       "    </tr>\n",
       "    <tr>\n",
       "      <th>12969</th>\n",
       "      <td>Earth</td>\n",
       "      <td>1.0</td>\n",
       "      <td>PSO J318.5-22</td>\n",
       "      <td>43.0</td>\n",
       "      <td>0.0</td>\n",
       "      <td>0.0</td>\n",
       "      <td>0.0</td>\n",
       "      <td>0.0</td>\n",
       "      <td>0.0</td>\n",
       "      <td>0.0</td>\n",
       "      <td>Leonzaley</td>\n",
       "      <td>NaN</td>\n",
       "      <td>G</td>\n",
       "      <td>S</td>\n",
       "      <td>1</td>\n",
       "    </tr>\n",
       "  </tbody>\n",
       "</table>\n",
       "<p>12970 rows × 15 columns</p>\n",
       "</div>"
      ],
      "text/plain": [
       "      HomePlanet  CryoSleep    Destination   Age  VIP  RoomService  FoodCourt  \\\n",
       "0         Europa        0.0    TRAPPIST-1e  39.0  0.0          0.0        0.0   \n",
       "1          Earth        0.0    TRAPPIST-1e  24.0  0.0        109.0        9.0   \n",
       "2         Europa        0.0    TRAPPIST-1e  58.0  1.0         43.0     3576.0   \n",
       "3         Europa        0.0    TRAPPIST-1e  33.0  0.0          0.0     1283.0   \n",
       "4          Earth        0.0    TRAPPIST-1e  16.0  0.0        303.0       70.0   \n",
       "...          ...        ...            ...   ...  ...          ...        ...   \n",
       "12965      Earth        1.0    TRAPPIST-1e  34.0  0.0          0.0        0.0   \n",
       "12966      Earth        0.0    TRAPPIST-1e  42.0  0.0          0.0      847.0   \n",
       "12967       Mars        1.0    55 Cancri e   NaN  0.0          0.0        0.0   \n",
       "12968     Europa        0.0            NaN   NaN  0.0          0.0     2680.0   \n",
       "12969      Earth        1.0  PSO J318.5-22  43.0  0.0          0.0        0.0   \n",
       "\n",
       "       ShoppingMall     Spa  VRDeck         Name  Transported cabin side  \\\n",
       "0               0.0     0.0     0.0    Ofracculy          0.0     B    P   \n",
       "1              25.0   549.0    44.0        Vines          1.0     F    S   \n",
       "2               0.0  6715.0    49.0       Susent          0.0     A    S   \n",
       "3             371.0  3329.0   193.0       Susent          0.0     A    S   \n",
       "4             151.0   565.0     2.0  Santantines          1.0     F    S   \n",
       "...             ...     ...     ...          ...          ...   ...  ...   \n",
       "12965           0.0     0.0     0.0        Peter          NaN     G    S   \n",
       "12966          17.0    10.0   144.0      Scheron          NaN   NaN  NaN   \n",
       "12967           0.0     0.0     0.0         Pore          NaN     D    P   \n",
       "12968           0.0     0.0   523.0       Conale          NaN     D    P   \n",
       "12969           0.0     0.0     0.0    Leonzaley          NaN     G    S   \n",
       "\n",
       "       FamilySize  \n",
       "0               1  \n",
       "1               1  \n",
       "2               2  \n",
       "3               2  \n",
       "4               1  \n",
       "...           ...  \n",
       "12965           2  \n",
       "12966           1  \n",
       "12967           1  \n",
       "12968           1  \n",
       "12969           1  \n",
       "\n",
       "[12970 rows x 15 columns]"
      ]
     },
     "execution_count": 15,
     "metadata": {},
     "output_type": "execute_result"
    }
   ],
   "source": [
    "df = df.drop(['PassengerId','id','member'], axis = 1)\n",
    "df"
   ]
  },
  {
   "cell_type": "markdown",
   "id": "c5d3f66f",
   "metadata": {
    "papermill": {
     "duration": 0.018234,
     "end_time": "2023-02-12T12:41:07.171354",
     "exception": false,
     "start_time": "2023-02-12T12:41:07.153120",
     "status": "completed"
    },
    "tags": []
   },
   "source": [
    "### proceed with EDA together to fill in the missing values.\n",
    "\n",
    "\n",
    "### The missing values are processed through a variety of information, but the information that will be the criteria is filled by guessing the highest frequency value."
   ]
  },
  {
   "cell_type": "code",
   "execution_count": 16,
   "id": "ec377e9b",
   "metadata": {
    "execution": {
     "iopub.execute_input": "2023-02-12T12:41:07.211136Z",
     "iopub.status.busy": "2023-02-12T12:41:07.210710Z",
     "iopub.status.idle": "2023-02-12T12:41:07.222978Z",
     "shell.execute_reply": "2023-02-12T12:41:07.222153Z"
    },
    "papermill": {
     "duration": 0.034875,
     "end_time": "2023-02-12T12:41:07.225274",
     "exception": false,
     "start_time": "2023-02-12T12:41:07.190399",
     "status": "completed"
    },
    "tags": []
   },
   "outputs": [
    {
     "data": {
      "text/plain": [
       "HomePlanet       288\n",
       "CryoSleep        310\n",
       "Destination      274\n",
       "Age              270\n",
       "VIP              296\n",
       "RoomService      263\n",
       "FoodCourt        289\n",
       "ShoppingMall     306\n",
       "Spa              284\n",
       "VRDeck           268\n",
       "Name             294\n",
       "Transported     4277\n",
       "cabin            299\n",
       "side             299\n",
       "FamilySize         0\n",
       "dtype: int64"
      ]
     },
     "execution_count": 16,
     "metadata": {},
     "output_type": "execute_result"
    }
   ],
   "source": [
    "df.isna().sum()"
   ]
  },
  {
   "cell_type": "markdown",
   "id": "a3eece34",
   "metadata": {
    "papermill": {
     "duration": 0.019,
     "end_time": "2023-02-12T12:41:07.263626",
     "exception": false,
     "start_time": "2023-02-12T12:41:07.244626",
     "status": "completed"
    },
    "tags": []
   },
   "source": [
    "![](https://opgg-com-image.akamaized.net/attach/images/20190711151531.633036.jpeg)\n",
    "\n",
    "\n",
    "### There are too many missing values.\n",
    "\n",
    "\n"
   ]
  },
  {
   "cell_type": "markdown",
   "id": "6dc36777",
   "metadata": {
    "papermill": {
     "duration": 0.018532,
     "end_time": "2023-02-12T12:41:07.301006",
     "exception": false,
     "start_time": "2023-02-12T12:41:07.282474",
     "status": "completed"
    },
    "tags": []
   },
   "source": [
    "# Fill Missing Values\n",
    "\n",
    "### The Homeplanet, destination, and VIP presence will be filled with missing values through the highest frequency value."
   ]
  },
  {
   "cell_type": "code",
   "execution_count": 17,
   "id": "a89ef299",
   "metadata": {
    "execution": {
     "iopub.execute_input": "2023-02-12T12:41:07.341219Z",
     "iopub.status.busy": "2023-02-12T12:41:07.340718Z",
     "iopub.status.idle": "2023-02-12T12:41:07.604586Z",
     "shell.execute_reply": "2023-02-12T12:41:07.603489Z"
    },
    "papermill": {
     "duration": 0.287327,
     "end_time": "2023-02-12T12:41:07.607210",
     "exception": false,
     "start_time": "2023-02-12T12:41:07.319883",
     "status": "completed"
    },
    "tags": []
   },
   "outputs": [
    {
     "data": {
      "text/plain": [
       "HomePlanet         0\n",
       "CryoSleep        310\n",
       "Destination      274\n",
       "Age              270\n",
       "VIP              296\n",
       "RoomService      263\n",
       "FoodCourt        289\n",
       "ShoppingMall     306\n",
       "Spa              284\n",
       "VRDeck           268\n",
       "Name             294\n",
       "Transported     4277\n",
       "cabin            299\n",
       "side             299\n",
       "FamilySize         0\n",
       "dtype: int64"
      ]
     },
     "execution_count": 17,
     "metadata": {},
     "output_type": "execute_result"
    },
    {
     "data": {
      "image/png": "[encoded data removed]",
      "text/plain": [
       "<Figure size 504x504 with 1 Axes>"
      ]
     },
     "metadata": {
      "needs_background": "light"
     },
     "output_type": "display_data"
    }
   ],
   "source": [
    "plt.figure(figsize = [7,7])\n",
    "\n",
    "sns.set_palette('Set3')\n",
    "sns.set_style(\"darkgrid\")\n",
    "\n",
    "\n",
    "sns.countplot(data = df,\n",
    "              x = 'HomePlanet')\n",
    "plt.title('Countplot of HomePlanet')\n",
    "\n",
    "df['HomePlanet'] = df['HomePlanet'].fillna('Earth')\n",
    "\n",
    "df.isna().sum()"
   ]
  },
  {
   "cell_type": "code",
   "execution_count": 18,
   "id": "4ef7cbfd",
   "metadata": {
    "execution": {
     "iopub.execute_input": "2023-02-12T12:41:07.648143Z",
     "iopub.status.busy": "2023-02-12T12:41:07.647185Z",
     "iopub.status.idle": "2023-02-12T12:41:07.865588Z",
     "shell.execute_reply": "2023-02-12T12:41:07.864411Z"
    },
    "papermill": {
     "duration": 0.241393,
     "end_time": "2023-02-12T12:41:07.868116",
     "exception": false,
     "start_time": "2023-02-12T12:41:07.626723",
     "status": "completed"
    },
    "tags": []
   },
   "outputs": [
    {
     "data": {
      "text/plain": [
       "Text(0.5, 1.0, 'Countplot of Destination')"
      ]
     },
     "execution_count": 18,
     "metadata": {},
     "output_type": "execute_result"
    },
    {
     "data": {
      "image/png": "[encoded data removed]",
      "text/plain": [
       "<Figure size 504x720 with 1 Axes>"
      ]
     },
     "metadata": {},
     "output_type": "display_data"
    }
   ],
   "source": [
    "plt.figure(figsize = [7,10])\n",
    "\n",
    "sns.countplot(data = df,\n",
    "              x = 'Destination')\n",
    "plt.title('Countplot of Destination')"
   ]
  },
  {
   "cell_type": "code",
   "execution_count": 19,
   "id": "88d3e40a",
   "metadata": {
    "execution": {
     "iopub.execute_input": "2023-02-12T12:41:07.909847Z",
     "iopub.status.busy": "2023-02-12T12:41:07.909218Z",
     "iopub.status.idle": "2023-02-12T12:41:07.923487Z",
     "shell.execute_reply": "2023-02-12T12:41:07.922312Z"
    },
    "papermill": {
     "duration": 0.03804,
     "end_time": "2023-02-12T12:41:07.925877",
     "exception": false,
     "start_time": "2023-02-12T12:41:07.887837",
     "status": "completed"
    },
    "tags": []
   },
   "outputs": [
    {
     "data": {
      "text/plain": [
       "HomePlanet         0\n",
       "CryoSleep        310\n",
       "Destination        0\n",
       "Age              270\n",
       "VIP              296\n",
       "RoomService      263\n",
       "FoodCourt        289\n",
       "ShoppingMall     306\n",
       "Spa              284\n",
       "VRDeck           268\n",
       "Name             294\n",
       "Transported     4277\n",
       "cabin            299\n",
       "side             299\n",
       "FamilySize         0\n",
       "dtype: int64"
      ]
     },
     "execution_count": 19,
     "metadata": {},
     "output_type": "execute_result"
    }
   ],
   "source": [
    "df['Destination'] = df['Destination'].fillna('TRAPPIST-1e')\n",
    "\n",
    "df.isna().sum()"
   ]
  },
  {
   "cell_type": "code",
   "execution_count": 20,
   "id": "58a0b986",
   "metadata": {
    "execution": {
     "iopub.execute_input": "2023-02-12T12:41:07.967389Z",
     "iopub.status.busy": "2023-02-12T12:41:07.966953Z",
     "iopub.status.idle": "2023-02-12T12:41:08.172615Z",
     "shell.execute_reply": "2023-02-12T12:41:08.171669Z"
    },
    "papermill": {
     "duration": 0.229347,
     "end_time": "2023-02-12T12:41:08.174937",
     "exception": false,
     "start_time": "2023-02-12T12:41:07.945590",
     "status": "completed"
    },
    "tags": []
   },
   "outputs": [
    {
     "data": {
      "text/plain": [
       "HomePlanet         0\n",
       "CryoSleep        310\n",
       "Destination        0\n",
       "Age              270\n",
       "VIP                0\n",
       "RoomService      263\n",
       "FoodCourt        289\n",
       "ShoppingMall     306\n",
       "Spa              284\n",
       "VRDeck           268\n",
       "Name             294\n",
       "Transported     4277\n",
       "cabin            299\n",
       "side             299\n",
       "FamilySize         0\n",
       "dtype: int64"
      ]
     },
     "execution_count": 20,
     "metadata": {},
     "output_type": "execute_result"
    },
    {
     "data": {
      "image/png": "[encoded data removed]",
      "text/plain": [
       "<Figure size 504x504 with 1 Axes>"
      ]
     },
     "metadata": {},
     "output_type": "display_data"
    }
   ],
   "source": [
    "plt.figure(figsize = [7,7])\n",
    "sns.countplot(data = df,\n",
    "              x = 'VIP')\n",
    "plt.title('Countplot of VIP')\n",
    "\n",
    "df['VIP'] = df['VIP'].fillna(0)\n",
    "\n",
    "df.isna().sum()"
   ]
  },
  {
   "cell_type": "markdown",
   "id": "82c6c723",
   "metadata": {
    "papermill": {
     "duration": 0.019869,
     "end_time": "2023-02-12T12:41:08.215024",
     "exception": false,
     "start_time": "2023-02-12T12:41:08.195155",
     "status": "completed"
    },
    "tags": []
   },
   "source": [
    "### To fill in the missing age value, I will fill it with VIP status. I think VIPs will be a good standard because there are many relatively old people.\n",
    "\n",
    "\n",
    "### I want to fill the missing value with VIP status, should I fill it with average or median?\n",
    "\n",
    "### Let's look at it as a probability density function."
   ]
  },
  {
   "cell_type": "code",
   "execution_count": 21,
   "id": "3e53cce2",
   "metadata": {
    "execution": {
     "iopub.execute_input": "2023-02-12T12:41:08.257390Z",
     "iopub.status.busy": "2023-02-12T12:41:08.256307Z",
     "iopub.status.idle": "2023-02-12T12:41:08.697268Z",
     "shell.execute_reply": "2023-02-12T12:41:08.696410Z"
    },
    "papermill": {
     "duration": 0.46435,
     "end_time": "2023-02-12T12:41:08.699398",
     "exception": false,
     "start_time": "2023-02-12T12:41:08.235048",
     "status": "completed"
    },
    "tags": []
   },
   "outputs": [
    {
     "data": {
      "text/plain": [
       "Text(0.5, 1.0, 'Kdeplot of Age according to VIP')"
      ]
     },
     "execution_count": 21,
     "metadata": {},
     "output_type": "execute_result"
    },
    {
     "data": {
      "image/png": "[encoded data removed]",
      "text/plain": [
       "<Figure size 432x288 with 1 Axes>"
      ]
     },
     "metadata": {},
     "output_type": "display_data"
    }
   ],
   "source": [
    "sns.kdeplot(data = df,\n",
    "            x = 'Age',\n",
    "            hue = 'VIP',\n",
    "            multiple = 'stack')\n",
    "plt.axvline(x = df['Age'].mean(), ls = '--', c = 'dodgerblue', label = 'mean')\n",
    "plt.axvline(x = df['Age'].median(), ls = '--', c = 'purple', label = 'median')\n",
    "plt.legend()\n",
    "plt.title('Kdeplot of Age according to VIP')"
   ]
  },
  {
   "cell_type": "markdown",
   "id": "b205999d",
   "metadata": {
    "papermill": {
     "duration": 0.020348,
     "end_time": "2023-02-12T12:41:08.740571",
     "exception": false,
     "start_time": "2023-02-12T12:41:08.720223",
     "status": "completed"
    },
    "tags": []
   },
   "source": [
    "### Looking at the probability density function, the median seems to explain the sample better.\n",
    "\n",
    "### So let's deal with missing values based on the median."
   ]
  },
  {
   "cell_type": "code",
   "execution_count": 22,
   "id": "cb7e27f2",
   "metadata": {
    "execution": {
     "iopub.execute_input": "2023-02-12T12:41:08.784113Z",
     "iopub.status.busy": "2023-02-12T12:41:08.783107Z",
     "iopub.status.idle": "2023-02-12T12:41:09.157210Z",
     "shell.execute_reply": "2023-02-12T12:41:09.156149Z"
    },
    "papermill": {
     "duration": 0.398424,
     "end_time": "2023-02-12T12:41:09.159621",
     "exception": false,
     "start_time": "2023-02-12T12:41:08.761197",
     "status": "completed"
    },
    "tags": []
   },
   "outputs": [
    {
     "data": {
      "text/plain": [
       "Text(0.5, 1.0, 'median age according to VIP presence')"
      ]
     },
     "execution_count": 22,
     "metadata": {},
     "output_type": "execute_result"
    },
    {
     "data": {
      "image/png": "[encoded data removed]",
      "text/plain": [
       "<Figure size 504x504 with 1 Axes>"
      ]
     },
     "metadata": {},
     "output_type": "display_data"
    }
   ],
   "source": [
    "plt.figure(figsize = [7,7])\n",
    "sns.violinplot(data = df,\n",
    "            x = 'VIP',\n",
    "            y = 'Age')\n",
    "plt.axhline(y = df.loc[df['VIP'] == 0]['Age'].median(), ls = '--', c = 'dodgerblue', label = 'Not VIP')\n",
    "plt.axhline(y = df.loc[df['VIP'] == 1]['Age'].median(), ls = '--', c = 'purple', label = 'VIP')\n",
    "plt.legend(prop ={'size' : 15})\n",
    "plt.title('median age according to VIP presence')"
   ]
  },
  {
   "cell_type": "markdown",
   "id": "307b00b3",
   "metadata": {
    "papermill": {
     "duration": 0.021224,
     "end_time": "2023-02-12T12:41:09.202337",
     "exception": false,
     "start_time": "2023-02-12T12:41:09.181113",
     "status": "completed"
    },
    "tags": []
   },
   "source": [
    "### Certainly, the average age is higher than that of non-VIP customers.\n",
    "\n",
    "### Let's fill in the missing values differently depending on the VIP status."
   ]
  },
  {
   "cell_type": "code",
   "execution_count": 23,
   "id": "020f3cb8",
   "metadata": {
    "execution": {
     "iopub.execute_input": "2023-02-12T12:41:09.247820Z",
     "iopub.status.busy": "2023-02-12T12:41:09.246874Z",
     "iopub.status.idle": "2023-02-12T12:41:09.268161Z",
     "shell.execute_reply": "2023-02-12T12:41:09.266956Z"
    },
    "papermill": {
     "duration": 0.046826,
     "end_time": "2023-02-12T12:41:09.270783",
     "exception": false,
     "start_time": "2023-02-12T12:41:09.223957",
     "status": "completed"
    },
    "tags": []
   },
   "outputs": [
    {
     "data": {
      "text/plain": [
       "HomePlanet         0\n",
       "CryoSleep        310\n",
       "Destination        0\n",
       "Age                0\n",
       "VIP                0\n",
       "RoomService      263\n",
       "FoodCourt        289\n",
       "ShoppingMall     306\n",
       "Spa              284\n",
       "VRDeck           268\n",
       "Name             294\n",
       "Transported     4277\n",
       "cabin            299\n",
       "side             299\n",
       "FamilySize         0\n",
       "dtype: int64"
      ]
     },
     "execution_count": 23,
     "metadata": {},
     "output_type": "execute_result"
    }
   ],
   "source": [
    "df.loc[df['VIP'] ==0 , 'Age'] = df.loc[df['VIP'] ==0 , 'Age'].fillna(df.loc[df['VIP'] ==0 , 'Age'].median())\n",
    "df.loc[df['VIP'] ==1 , 'Age'] = df.loc[df['VIP'] ==1 , 'Age'].fillna(df.loc[df['VIP'] ==1 , 'Age'].median())\n",
    "\n",
    "df.isna().sum()"
   ]
  },
  {
   "cell_type": "markdown",
   "id": "494500bc",
   "metadata": {
    "papermill": {
     "duration": 0.021592,
     "end_time": "2023-02-12T12:41:09.314179",
     "exception": false,
     "start_time": "2023-02-12T12:41:09.292587",
     "status": "completed"
    },
    "tags": []
   },
   "source": [
    "### In the same sense, the price of service use will be filled according to the missing value whether it is a VIP or not."
   ]
  },
  {
   "cell_type": "markdown",
   "id": "e3c542e2",
   "metadata": {
    "papermill": {
     "duration": 0.021419,
     "end_time": "2023-02-12T12:41:09.357463",
     "exception": false,
     "start_time": "2023-02-12T12:41:09.336044",
     "status": "completed"
    },
    "tags": []
   },
   "source": []
  },
  {
   "cell_type": "code",
   "execution_count": 24,
   "id": "0147f14f",
   "metadata": {
    "execution": {
     "iopub.execute_input": "2023-02-12T12:41:09.402756Z",
     "iopub.status.busy": "2023-02-12T12:41:09.402335Z",
     "iopub.status.idle": "2023-02-12T12:41:11.438739Z",
     "shell.execute_reply": "2023-02-12T12:41:11.437415Z"
    },
    "papermill": {
     "duration": 2.062187,
     "end_time": "2023-02-12T12:41:11.441485",
     "exception": false,
     "start_time": "2023-02-12T12:41:09.379298",
     "status": "completed"
    },
    "tags": []
   },
   "outputs": [
    {
     "data": {
      "image/png": "[encoded data removed]",
      "text/plain": [
       "<Figure size 1080x1080 with 5 Axes>"
      ]
     },
     "metadata": {},
     "output_type": "display_data"
    }
   ],
   "source": [
    " numeric_cols = [\n",
    " 'RoomService',\n",
    " 'FoodCourt',\n",
    " 'ShoppingMall',\n",
    " 'Spa',\n",
    " 'VRDeck']\n",
    "    \n",
    "plt.figure(figsize = [15,15])\n",
    "plt.subplots_adjust(wspace = 1)\n",
    "\n",
    "for i,var in enumerate(numeric_cols):\n",
    "    plt.subplot(3,3,i+1)\n",
    "    sns.barplot(data = df,\n",
    "                x = 'VIP',\n",
    "                y = var)\n",
    "    plt.axhline(y = df.loc[df['VIP'] == 0][var].mean(), ls = '--', c = 'dodgerblue', label = 'Not VIP')\n",
    "    plt.axhline(y = df.loc[df['VIP'] == 1][var].mean(), ls = '--', c = 'purple', label = 'VIP')\n",
    "    plt.legend(loc = 9)\n",
    "    plt.title(f'violineplot of {var} according to VIP')"
   ]
  },
  {
   "cell_type": "markdown",
   "id": "f0b0575c",
   "metadata": {
    "papermill": {
     "duration": 0.022814,
     "end_time": "2023-02-12T12:41:11.487128",
     "exception": false,
     "start_time": "2023-02-12T12:41:11.464314",
     "status": "completed"
    },
    "tags": []
   },
   "source": [
    "### Since it means the price, the missing value was filled using the average value.\n",
    "\n",
    "### People who are VIPs in every way paid more."
   ]
  },
  {
   "cell_type": "code",
   "execution_count": 25,
   "id": "f86a08b4",
   "metadata": {
    "execution": {
     "iopub.execute_input": "2023-02-12T12:41:11.535426Z",
     "iopub.status.busy": "2023-02-12T12:41:11.534419Z",
     "iopub.status.idle": "2023-02-12T12:41:11.574284Z",
     "shell.execute_reply": "2023-02-12T12:41:11.572979Z"
    },
    "papermill": {
     "duration": 0.066803,
     "end_time": "2023-02-12T12:41:11.577022",
     "exception": false,
     "start_time": "2023-02-12T12:41:11.510219",
     "status": "completed"
    },
    "tags": []
   },
   "outputs": [
    {
     "data": {
      "text/plain": [
       "HomePlanet         0\n",
       "CryoSleep        310\n",
       "Destination        0\n",
       "Age                0\n",
       "VIP                0\n",
       "RoomService        0\n",
       "FoodCourt          0\n",
       "ShoppingMall       0\n",
       "Spa                0\n",
       "VRDeck             0\n",
       "Name             294\n",
       "Transported     4277\n",
       "cabin            299\n",
       "side             299\n",
       "FamilySize         0\n",
       "dtype: int64"
      ]
     },
     "execution_count": 25,
     "metadata": {},
     "output_type": "execute_result"
    }
   ],
   "source": [
    "for var in numeric_cols:\n",
    "\n",
    "    df.loc[df['VIP'] == 0,var] = df.loc[df['VIP'] == 0, var].fillna(df.loc[df['VIP'] == 0,var].mean())\n",
    "    df.loc[df['VIP'] == 1,var] = df.loc[df['VIP'] == 1, var].fillna(df.loc[df['VIP'] == 1,var].mean())\n",
    "\n",
    "\n",
    "df.isna().sum()"
   ]
  },
  {
   "cell_type": "markdown",
   "id": "25b98179",
   "metadata": {
    "papermill": {
     "duration": 0.02247,
     "end_time": "2023-02-12T12:41:11.622485",
     "exception": false,
     "start_time": "2023-02-12T12:41:11.600015",
     "status": "completed"
    },
    "tags": []
   },
   "source": [
    "### Let's checek CryoSleep"
   ]
  },
  {
   "cell_type": "code",
   "execution_count": 26,
   "id": "4e0f2740",
   "metadata": {
    "execution": {
     "iopub.execute_input": "2023-02-12T12:41:11.669991Z",
     "iopub.status.busy": "2023-02-12T12:41:11.669587Z",
     "iopub.status.idle": "2023-02-12T12:41:11.910821Z",
     "shell.execute_reply": "2023-02-12T12:41:11.909594Z"
    },
    "papermill": {
     "duration": 0.267895,
     "end_time": "2023-02-12T12:41:11.913175",
     "exception": false,
     "start_time": "2023-02-12T12:41:11.645280",
     "status": "completed"
    },
    "tags": []
   },
   "outputs": [
    {
     "data": {
      "text/plain": [
       "Text(0.5, 1.0, 'Countplot of CyroSleep according to VIP')"
      ]
     },
     "execution_count": 26,
     "metadata": {},
     "output_type": "execute_result"
    },
    {
     "data": {
      "image/png": "[encoded data removed]",
      "text/plain": [
       "<Figure size 504x504 with 1 Axes>"
      ]
     },
     "metadata": {},
     "output_type": "display_data"
    }
   ],
   "source": [
    "plt.figure(figsize = [7,7])\n",
    "sns.countplot(data = df,\n",
    "              x = 'VIP',\n",
    "              hue = 'CryoSleep')\n",
    "plt.title('Countplot of CyroSleep according to VIP')"
   ]
  },
  {
   "cell_type": "markdown",
   "id": "26c91663",
   "metadata": {
    "papermill": {
     "duration": 0.022743,
     "end_time": "2023-02-12T12:41:11.959229",
     "exception": false,
     "start_time": "2023-02-12T12:41:11.936486",
     "status": "completed"
    },
    "tags": []
   },
   "source": [
    "### Most passengers did not apply for CyroSleep.\n",
    "\n",
    "### Therefore, I will fill in the missing values for the non-application."
   ]
  },
  {
   "cell_type": "code",
   "execution_count": 27,
   "id": "5f3bbd4e",
   "metadata": {
    "execution": {
     "iopub.execute_input": "2023-02-12T12:41:12.007582Z",
     "iopub.status.busy": "2023-02-12T12:41:12.006824Z",
     "iopub.status.idle": "2023-02-12T12:41:12.019643Z",
     "shell.execute_reply": "2023-02-12T12:41:12.018752Z"
    },
    "papermill": {
     "duration": 0.039473,
     "end_time": "2023-02-12T12:41:12.021671",
     "exception": false,
     "start_time": "2023-02-12T12:41:11.982198",
     "status": "completed"
    },
    "tags": []
   },
   "outputs": [
    {
     "data": {
      "text/plain": [
       "HomePlanet         0\n",
       "CryoSleep          0\n",
       "Destination        0\n",
       "Age                0\n",
       "VIP                0\n",
       "RoomService        0\n",
       "FoodCourt          0\n",
       "ShoppingMall       0\n",
       "Spa                0\n",
       "VRDeck             0\n",
       "Name             294\n",
       "Transported     4277\n",
       "cabin            299\n",
       "side             299\n",
       "FamilySize         0\n",
       "dtype: int64"
      ]
     },
     "execution_count": 27,
     "metadata": {},
     "output_type": "execute_result"
    }
   ],
   "source": [
    "df['CryoSleep'] = df['CryoSleep'].fillna(0)\n",
    "\n",
    "df.isna().sum()"
   ]
  },
  {
   "cell_type": "markdown",
   "id": "833d64b7",
   "metadata": {
    "papermill": {
     "duration": 0.025954,
     "end_time": "2023-02-12T12:41:12.071192",
     "exception": false,
     "start_time": "2023-02-12T12:41:12.045238",
     "status": "completed"
    },
    "tags": []
   },
   "source": [
    "### Filling Missing Values for Seats"
   ]
  },
  {
   "cell_type": "code",
   "execution_count": 28,
   "id": "7135bdaa",
   "metadata": {
    "execution": {
     "iopub.execute_input": "2023-02-12T12:41:12.119425Z",
     "iopub.status.busy": "2023-02-12T12:41:12.118711Z",
     "iopub.status.idle": "2023-02-12T12:41:12.664028Z",
     "shell.execute_reply": "2023-02-12T12:41:12.663158Z"
    },
    "papermill": {
     "duration": 0.571967,
     "end_time": "2023-02-12T12:41:12.666339",
     "exception": false,
     "start_time": "2023-02-12T12:41:12.094372",
     "status": "completed"
    },
    "tags": []
   },
   "outputs": [
    {
     "data": {
      "text/plain": [
       "<Figure size 432x288 with 0 Axes>"
      ]
     },
     "metadata": {},
     "output_type": "display_data"
    },
    {
     "data": {
      "image/png": "[encoded data removed]",
      "text/plain": [
       "<Figure size 720x720 with 2 Axes>"
      ]
     },
     "metadata": {},
     "output_type": "display_data"
    }
   ],
   "source": [
    "obj_cols = ['cabin','side']\n",
    "\n",
    "plt.subplots_adjust(hspace = 1)\n",
    "\n",
    "plt.figure(figsize = [10,10])\n",
    "for i,var in enumerate(obj_cols):\n",
    "    plt.subplot(2,1,i+1)\n",
    "    \n",
    "    sns.countplot(data = df,\n",
    "                  x = var,\n",
    "                  hue = 'HomePlanet')\n",
    "    plt.title(f'Countplot of {var} according to HomePlanet')\n",
    "    "
   ]
  },
  {
   "cell_type": "markdown",
   "id": "3d2dd84e",
   "metadata": {
    "papermill": {
     "duration": 0.023778,
     "end_time": "2023-02-12T12:41:12.714743",
     "exception": false,
     "start_time": "2023-02-12T12:41:12.690965",
     "status": "completed"
    },
    "tags": []
   },
   "source": [
    "### I will use the seat information according to the starting station.\n",
    "\n",
    "### Most passengers departing from Earth used seats G.\n",
    "\n",
    "### Most passengers departing from Europa used B seats.\n",
    "\n",
    "### Most passengers departing from Mars used seats F.\n",
    "\n",
    "### The seating position is 50:50, so I'll divide it into half and fill in the missing values."
   ]
  },
  {
   "cell_type": "code",
   "execution_count": 29,
   "id": "9cb440f9",
   "metadata": {
    "execution": {
     "iopub.execute_input": "2023-02-12T12:41:12.764913Z",
     "iopub.status.busy": "2023-02-12T12:41:12.763815Z",
     "iopub.status.idle": "2023-02-12T12:41:12.796859Z",
     "shell.execute_reply": "2023-02-12T12:41:12.795601Z"
    },
    "papermill": {
     "duration": 0.060822,
     "end_time": "2023-02-12T12:41:12.799226",
     "exception": false,
     "start_time": "2023-02-12T12:41:12.738404",
     "status": "completed"
    },
    "tags": []
   },
   "outputs": [
    {
     "data": {
      "text/plain": [
       "HomePlanet         0\n",
       "CryoSleep          0\n",
       "Destination        0\n",
       "Age                0\n",
       "VIP                0\n",
       "RoomService        0\n",
       "FoodCourt          0\n",
       "ShoppingMall       0\n",
       "Spa                0\n",
       "VRDeck             0\n",
       "Name             294\n",
       "Transported     4277\n",
       "cabin              0\n",
       "side             299\n",
       "FamilySize         0\n",
       "dtype: int64"
      ]
     },
     "execution_count": 29,
     "metadata": {},
     "output_type": "execute_result"
    }
   ],
   "source": [
    "na_cond = df['cabin'].isna()\n",
    "\n",
    "df.loc[na_cond & (df['HomePlanet'] == 'Earth'),'cabin'] = df[na_cond & (df['HomePlanet'] == 'Earth')].fillna('G')\n",
    "df.loc[na_cond & (df['HomePlanet'] == 'Europa'),'cabin'] = df[na_cond & (df['HomePlanet'] == 'Europa')].fillna('B') \n",
    "df.loc[na_cond & (df['HomePlanet'] == 'Mars'),'cabin'] = df[na_cond & (df['HomePlanet'] == 'Mars')].fillna('F') \n",
    "\n",
    "df.isna().sum()"
   ]
  },
  {
   "cell_type": "code",
   "execution_count": 30,
   "id": "db2cc4e3",
   "metadata": {
    "execution": {
     "iopub.execute_input": "2023-02-12T12:41:12.849519Z",
     "iopub.status.busy": "2023-02-12T12:41:12.848341Z",
     "iopub.status.idle": "2023-02-12T12:41:12.869802Z",
     "shell.execute_reply": "2023-02-12T12:41:12.868503Z"
    },
    "papermill": {
     "duration": 0.049008,
     "end_time": "2023-02-12T12:41:12.872271",
     "exception": false,
     "start_time": "2023-02-12T12:41:12.823263",
     "status": "completed"
    },
    "tags": []
   },
   "outputs": [
    {
     "data": {
      "text/plain": [
       "HomePlanet         0\n",
       "CryoSleep          0\n",
       "Destination        0\n",
       "Age                0\n",
       "VIP                0\n",
       "RoomService        0\n",
       "FoodCourt          0\n",
       "ShoppingMall       0\n",
       "Spa                0\n",
       "VRDeck             0\n",
       "Name             294\n",
       "Transported     4277\n",
       "cabin              0\n",
       "side               0\n",
       "FamilySize         0\n",
       "dtype: int64"
      ]
     },
     "execution_count": 30,
     "metadata": {},
     "output_type": "execute_result"
    }
   ],
   "source": [
    "df.loc[(df['side'].isna()),'side'][:150] = df.loc[(df['side'].isna()),'side'][:150].fillna('P')\n",
    "df.loc[(df['side'].isna()),'side'] = df.loc[(df['side'].isna()),'side'].fillna('S')\n",
    "\n",
    "df.isna().sum()"
   ]
  },
  {
   "cell_type": "markdown",
   "id": "f8892be0",
   "metadata": {
    "papermill": {
     "duration": 0.02386,
     "end_time": "2023-02-12T12:41:12.920062",
     "exception": false,
     "start_time": "2023-02-12T12:41:12.896202",
     "status": "completed"
    },
    "tags": []
   },
   "source": [
    "### The name is unpredictable, so I'll fill it up with Unknown"
   ]
  },
  {
   "cell_type": "code",
   "execution_count": 31,
   "id": "8a36db4d",
   "metadata": {
    "execution": {
     "iopub.execute_input": "2023-02-12T12:41:12.970256Z",
     "iopub.status.busy": "2023-02-12T12:41:12.969589Z",
     "iopub.status.idle": "2023-02-12T12:41:12.984446Z",
     "shell.execute_reply": "2023-02-12T12:41:12.983374Z"
    },
    "papermill": {
     "duration": 0.042684,
     "end_time": "2023-02-12T12:41:12.986936",
     "exception": false,
     "start_time": "2023-02-12T12:41:12.944252",
     "status": "completed"
    },
    "tags": []
   },
   "outputs": [
    {
     "data": {
      "text/plain": [
       "HomePlanet         0\n",
       "CryoSleep          0\n",
       "Destination        0\n",
       "Age                0\n",
       "VIP                0\n",
       "RoomService        0\n",
       "FoodCourt          0\n",
       "ShoppingMall       0\n",
       "Spa                0\n",
       "VRDeck             0\n",
       "Name               0\n",
       "Transported     4277\n",
       "cabin              0\n",
       "side               0\n",
       "FamilySize         0\n",
       "dtype: int64"
      ]
     },
     "execution_count": 31,
     "metadata": {},
     "output_type": "execute_result"
    }
   ],
   "source": [
    "df['Name'] = df['Name'].fillna('Unknown')\n",
    "\n",
    "df.isna().sum()"
   ]
  },
  {
   "cell_type": "markdown",
   "id": "5bec5c0f",
   "metadata": {
    "papermill": {
     "duration": 0.023648,
     "end_time": "2023-02-12T12:41:13.034585",
     "exception": false,
     "start_time": "2023-02-12T12:41:13.010937",
     "status": "completed"
    },
    "tags": []
   },
   "source": [
    "### I will categorize the names so that they are easy to visualize later."
   ]
  },
  {
   "cell_type": "code",
   "execution_count": 32,
   "id": "41b82c14",
   "metadata": {
    "execution": {
     "iopub.execute_input": "2023-02-12T12:41:13.084665Z",
     "iopub.status.busy": "2023-02-12T12:41:13.084274Z",
     "iopub.status.idle": "2023-02-12T12:41:13.096493Z",
     "shell.execute_reply": "2023-02-12T12:41:13.095565Z"
    },
    "papermill": {
     "duration": 0.040107,
     "end_time": "2023-02-12T12:41:13.098850",
     "exception": false,
     "start_time": "2023-02-12T12:41:13.058743",
     "status": "completed"
    },
    "tags": []
   },
   "outputs": [],
   "source": [
    "name_count = df['Name'].value_counts()\n",
    "\n",
    "Rare_name = name_count[(name_count.values < name_count.mean())].index.tolist()\n",
    "\n",
    "uncommon_name = name_count[(name_count.mean() < name_count.values) & (name_count.values <= 8)].index.tolist()\n",
    "\n",
    "common_name = name_count[(8 < name_count.values) & (name_count.index != 'Unknown')].index.tolist()\n",
    "\n",
    "unknown_name = name_count[name_count.index == 'Unknown'].index.tolist()\n",
    "\n",
    "\n",
    "\n"
   ]
  },
  {
   "cell_type": "code",
   "execution_count": 33,
   "id": "fb66b287",
   "metadata": {
    "execution": {
     "iopub.execute_input": "2023-02-12T12:41:13.149609Z",
     "iopub.status.busy": "2023-02-12T12:41:13.149202Z",
     "iopub.status.idle": "2023-02-12T12:41:13.184365Z",
     "shell.execute_reply": "2023-02-12T12:41:13.183110Z"
    },
    "papermill": {
     "duration": 0.063604,
     "end_time": "2023-02-12T12:41:13.186850",
     "exception": false,
     "start_time": "2023-02-12T12:41:13.123246",
     "status": "completed"
    },
    "tags": []
   },
   "outputs": [
    {
     "data": {
      "text/html": [
       "<div>\n",
       "<style scoped>\n",
       "    .dataframe tbody tr th:only-of-type {\n",
       "        vertical-align: middle;\n",
       "    }\n",
       "\n",
       "    .dataframe tbody tr th {\n",
       "        vertical-align: top;\n",
       "    }\n",
       "\n",
       "    .dataframe thead th {\n",
       "        text-align: right;\n",
       "    }\n",
       "</style>\n",
       "<table border=\"1\" class=\"dataframe\">\n",
       "  <thead>\n",
       "    <tr style=\"text-align: right;\">\n",
       "      <th></th>\n",
       "      <th>HomePlanet</th>\n",
       "      <th>CryoSleep</th>\n",
       "      <th>Destination</th>\n",
       "      <th>Age</th>\n",
       "      <th>VIP</th>\n",
       "      <th>RoomService</th>\n",
       "      <th>FoodCourt</th>\n",
       "      <th>ShoppingMall</th>\n",
       "      <th>Spa</th>\n",
       "      <th>VRDeck</th>\n",
       "      <th>Name</th>\n",
       "      <th>Transported</th>\n",
       "      <th>cabin</th>\n",
       "      <th>side</th>\n",
       "      <th>FamilySize</th>\n",
       "    </tr>\n",
       "  </thead>\n",
       "  <tbody>\n",
       "    <tr>\n",
       "      <th>0</th>\n",
       "      <td>Europa</td>\n",
       "      <td>0.0</td>\n",
       "      <td>TRAPPIST-1e</td>\n",
       "      <td>39.0</td>\n",
       "      <td>0.0</td>\n",
       "      <td>0.0</td>\n",
       "      <td>0.0</td>\n",
       "      <td>0.0</td>\n",
       "      <td>0.0</td>\n",
       "      <td>0.0</td>\n",
       "      <td>2</td>\n",
       "      <td>0.0</td>\n",
       "      <td>B</td>\n",
       "      <td>P</td>\n",
       "      <td>1</td>\n",
       "    </tr>\n",
       "    <tr>\n",
       "      <th>1</th>\n",
       "      <td>Earth</td>\n",
       "      <td>0.0</td>\n",
       "      <td>TRAPPIST-1e</td>\n",
       "      <td>24.0</td>\n",
       "      <td>0.0</td>\n",
       "      <td>109.0</td>\n",
       "      <td>9.0</td>\n",
       "      <td>25.0</td>\n",
       "      <td>549.0</td>\n",
       "      <td>44.0</td>\n",
       "      <td>2</td>\n",
       "      <td>1.0</td>\n",
       "      <td>F</td>\n",
       "      <td>S</td>\n",
       "      <td>1</td>\n",
       "    </tr>\n",
       "    <tr>\n",
       "      <th>2</th>\n",
       "      <td>Europa</td>\n",
       "      <td>0.0</td>\n",
       "      <td>TRAPPIST-1e</td>\n",
       "      <td>58.0</td>\n",
       "      <td>1.0</td>\n",
       "      <td>43.0</td>\n",
       "      <td>3576.0</td>\n",
       "      <td>0.0</td>\n",
       "      <td>6715.0</td>\n",
       "      <td>49.0</td>\n",
       "      <td>1</td>\n",
       "      <td>0.0</td>\n",
       "      <td>A</td>\n",
       "      <td>S</td>\n",
       "      <td>2</td>\n",
       "    </tr>\n",
       "    <tr>\n",
       "      <th>3</th>\n",
       "      <td>Europa</td>\n",
       "      <td>0.0</td>\n",
       "      <td>TRAPPIST-1e</td>\n",
       "      <td>33.0</td>\n",
       "      <td>0.0</td>\n",
       "      <td>0.0</td>\n",
       "      <td>1283.0</td>\n",
       "      <td>371.0</td>\n",
       "      <td>3329.0</td>\n",
       "      <td>193.0</td>\n",
       "      <td>1</td>\n",
       "      <td>0.0</td>\n",
       "      <td>A</td>\n",
       "      <td>S</td>\n",
       "      <td>2</td>\n",
       "    </tr>\n",
       "    <tr>\n",
       "      <th>4</th>\n",
       "      <td>Earth</td>\n",
       "      <td>0.0</td>\n",
       "      <td>TRAPPIST-1e</td>\n",
       "      <td>16.0</td>\n",
       "      <td>0.0</td>\n",
       "      <td>303.0</td>\n",
       "      <td>70.0</td>\n",
       "      <td>151.0</td>\n",
       "      <td>565.0</td>\n",
       "      <td>2.0</td>\n",
       "      <td>0</td>\n",
       "      <td>1.0</td>\n",
       "      <td>F</td>\n",
       "      <td>S</td>\n",
       "      <td>1</td>\n",
       "    </tr>\n",
       "  </tbody>\n",
       "</table>\n",
       "</div>"
      ],
      "text/plain": [
       "  HomePlanet  CryoSleep  Destination   Age  VIP  RoomService  FoodCourt  \\\n",
       "0     Europa        0.0  TRAPPIST-1e  39.0  0.0          0.0        0.0   \n",
       "1      Earth        0.0  TRAPPIST-1e  24.0  0.0        109.0        9.0   \n",
       "2     Europa        0.0  TRAPPIST-1e  58.0  1.0         43.0     3576.0   \n",
       "3     Europa        0.0  TRAPPIST-1e  33.0  0.0          0.0     1283.0   \n",
       "4      Earth        0.0  TRAPPIST-1e  16.0  0.0        303.0       70.0   \n",
       "\n",
       "   ShoppingMall     Spa  VRDeck Name  Transported cabin side  FamilySize  \n",
       "0           0.0     0.0     0.0    2          0.0     B    P           1  \n",
       "1          25.0   549.0    44.0    2          1.0     F    S           1  \n",
       "2           0.0  6715.0    49.0    1          0.0     A    S           2  \n",
       "3         371.0  3329.0   193.0    1          0.0     A    S           2  \n",
       "4         151.0   565.0     2.0    0          1.0     F    S           1  "
      ]
     },
     "execution_count": 33,
     "metadata": {},
     "output_type": "execute_result"
    }
   ],
   "source": [
    "df.loc[df['Name'].isin(common_name),'Name'] = 0\n",
    "df.loc[df['Name'].isin(uncommon_name),'Name'] = 1\n",
    "df.loc[df['Name'].isin(Rare_name),'Name'] = 2\n",
    "df.loc[df['Name'].isin(unknown_name),'Name']= 3\n",
    "\n",
    "df.head()"
   ]
  },
  {
   "cell_type": "markdown",
   "id": "02410bae",
   "metadata": {
    "papermill": {
     "duration": 0.024202,
     "end_time": "2023-02-12T12:41:13.235521",
     "exception": false,
     "start_time": "2023-02-12T12:41:13.211319",
     "status": "completed"
    },
    "tags": []
   },
   "source": [
    "### Since the preprocessing of the data is over, I will hand out the training set and the test set."
   ]
  },
  {
   "cell_type": "code",
   "execution_count": 34,
   "id": "a96e4d63",
   "metadata": {
    "execution": {
     "iopub.execute_input": "2023-02-12T12:41:13.286689Z",
     "iopub.status.busy": "2023-02-12T12:41:13.285753Z",
     "iopub.status.idle": "2023-02-12T12:41:13.301928Z",
     "shell.execute_reply": "2023-02-12T12:41:13.300896Z"
    },
    "papermill": {
     "duration": 0.044742,
     "end_time": "2023-02-12T12:41:13.304612",
     "exception": false,
     "start_time": "2023-02-12T12:41:13.259870",
     "status": "completed"
    },
    "tags": []
   },
   "outputs": [],
   "source": [
    "df['passenger_id'] = full_index\n",
    "test = df.loc[df['passenger_id'].isin(submission_id)].drop('passenger_id', axis = 1 )\n",
    "train = df.drop(index = test.index, axis = 0).drop('passenger_id',axis = 1)"
   ]
  },
  {
   "cell_type": "markdown",
   "id": "3853e447",
   "metadata": {
    "papermill": {
     "duration": 0.02321,
     "end_time": "2023-02-12T12:41:13.352051",
     "exception": false,
     "start_time": "2023-02-12T12:41:13.328841",
     "status": "completed"
    },
    "tags": []
   },
   "source": [
    "# EDA"
   ]
  },
  {
   "cell_type": "markdown",
   "id": "8d524d76",
   "metadata": {
    "papermill": {
     "duration": 0.023746,
     "end_time": "2023-02-12T12:41:13.399419",
     "exception": false,
     "start_time": "2023-02-12T12:41:13.375673",
     "status": "completed"
    },
    "tags": []
   },
   "source": [
    "## proceed with data visualization depending on whether it is transmitted or not."
   ]
  },
  {
   "cell_type": "markdown",
   "id": "241f624f",
   "metadata": {
    "papermill": {
     "duration": 0.023571,
     "end_time": "2023-02-12T12:41:13.446715",
     "exception": false,
     "start_time": "2023-02-12T12:41:13.423144",
     "status": "completed"
    },
    "tags": []
   },
   "source": [
    "### Age group comparison by transmission or not.\n",
    "\n",
    "### There is not much difference."
   ]
  },
  {
   "cell_type": "code",
   "execution_count": 35,
   "id": "7bc3ef9a",
   "metadata": {
    "execution": {
     "iopub.execute_input": "2023-02-12T12:41:13.497477Z",
     "iopub.status.busy": "2023-02-12T12:41:13.497027Z",
     "iopub.status.idle": "2023-02-12T12:41:13.790990Z",
     "shell.execute_reply": "2023-02-12T12:41:13.789757Z"
    },
    "papermill": {
     "duration": 0.322581,
     "end_time": "2023-02-12T12:41:13.793914",
     "exception": false,
     "start_time": "2023-02-12T12:41:13.471333",
     "status": "completed"
    },
    "tags": []
   },
   "outputs": [
    {
     "data": {
      "text/plain": [
       "Text(0.5, 1.0, 'Kdeplot of Age according to Transported')"
      ]
     },
     "execution_count": 35,
     "metadata": {},
     "output_type": "execute_result"
    },
    {
     "data": {
      "image/png": "[encoded data removed]",
      "text/plain": [
       "<Figure size 720x360 with 1 Axes>"
      ]
     },
     "metadata": {},
     "output_type": "display_data"
    }
   ],
   "source": [
    "plt.figure(figsize = [10,5])\n",
    "sns.kdeplot(data = train,\n",
    "            x = 'Age',\n",
    "            hue = 'Transported',\n",
    "            palette = ['black','purple'],\n",
    "            multiple = 'stack')\n",
    "plt.title('Kdeplot of Age according to Transported')"
   ]
  },
  {
   "cell_type": "markdown",
   "id": "2acc80f9",
   "metadata": {
    "papermill": {
     "duration": 0.026227,
     "end_time": "2023-02-12T12:41:13.846432",
     "exception": false,
     "start_time": "2023-02-12T12:41:13.820205",
     "status": "completed"
    },
    "tags": []
   },
   "source": [
    "### Visualization of 'HomePlanet', 'Destination', 'cabin', 'side', 'FamilySize', 'Name' data based on whether it has been transported or not"
   ]
  },
  {
   "cell_type": "code",
   "execution_count": 36,
   "id": "668b40e7",
   "metadata": {
    "execution": {
     "iopub.execute_input": "2023-02-12T12:41:13.899266Z",
     "iopub.status.busy": "2023-02-12T12:41:13.898865Z",
     "iopub.status.idle": "2023-02-12T12:41:14.901135Z",
     "shell.execute_reply": "2023-02-12T12:41:14.899915Z"
    },
    "papermill": {
     "duration": 1.032047,
     "end_time": "2023-02-12T12:41:14.904115",
     "exception": false,
     "start_time": "2023-02-12T12:41:13.872068",
     "status": "completed"
    },
    "tags": []
   },
   "outputs": [
    {
     "data": {
      "image/png": "[encoded data removed]",
      "text/plain": [
       "<Figure size 720x1152 with 6 Axes>"
      ]
     },
     "metadata": {},
     "output_type": "display_data"
    }
   ],
   "source": [
    "obj_cols = ['HomePlanet','Destination','cabin','side','FamilySize','Name']\n",
    "\n",
    "plt.figure(figsize = [10,16])\n",
    "plt.subplots_adjust(hspace = 0.5)\n",
    "for i,var in enumerate(obj_cols):\n",
    "    \n",
    "    plt.subplot(6,1,i+1)\n",
    "    \n",
    "    sns.countplot(data = train,\n",
    "                  x = var,\n",
    "                  hue = 'Transported',\n",
    "                  palette = ['black','purple'])\n",
    "    plt.title(f'Countplot of {var} according to Transported')\n",
    "    "
   ]
  },
  {
   "cell_type": "markdown",
   "id": "cab7626b",
   "metadata": {
    "papermill": {
     "duration": 0.026855,
     "end_time": "2023-02-12T12:41:14.957748",
     "exception": false,
     "start_time": "2023-02-12T12:41:14.930893",
     "status": "completed"
    },
    "tags": []
   },
   "source": [
    "### Visualization of numerical variables"
   ]
  },
  {
   "cell_type": "code",
   "execution_count": 37,
   "id": "3513b1aa",
   "metadata": {
    "execution": {
     "iopub.execute_input": "2023-02-12T12:41:15.013352Z",
     "iopub.status.busy": "2023-02-12T12:41:15.012181Z",
     "iopub.status.idle": "2023-02-12T12:41:18.821834Z",
     "shell.execute_reply": "2023-02-12T12:41:18.820708Z"
    },
    "papermill": {
     "duration": 3.842019,
     "end_time": "2023-02-12T12:41:18.826305",
     "exception": false,
     "start_time": "2023-02-12T12:41:14.984286",
     "status": "completed"
    },
    "tags": []
   },
   "outputs": [
    {
     "data": {
      "image/png": "[encoded data removed]",
      "text/plain": [
       "<Figure size 720x1152 with 8 Axes>"
      ]
     },
     "metadata": {},
     "output_type": "display_data"
    }
   ],
   "source": [
    "numeric_cols = ['CryoSleep',\n",
    " 'Age',\n",
    " 'VIP',\n",
    " 'RoomService',\n",
    " 'FoodCourt',\n",
    " 'ShoppingMall',\n",
    " 'Spa',\n",
    " 'VRDeck']\n",
    "\n",
    "numeric_cols\n",
    "\n",
    "plt.figure(figsize = [10,16])\n",
    "plt.subplots_adjust(hspace = 0.5)\n",
    "for i,var in enumerate(numeric_cols):\n",
    "    \n",
    "    plt.subplot(4,2,i+1)\n",
    "    \n",
    "    sns.histplot(data = train,\n",
    "                  x = var,\n",
    "                  hue = 'Transported',\n",
    "                  palette = ['black','purple'],\n",
    "                  kde = True,\n",
    "                  multiple = 'dodge',\n",
    "                  bins = 50)\n",
    "    plt.title(f'histplot of {var} according to Transported')"
   ]
  },
  {
   "cell_type": "markdown",
   "id": "cf03a791",
   "metadata": {
    "papermill": {
     "duration": 0.032486,
     "end_time": "2023-02-12T12:41:18.887734",
     "exception": false,
     "start_time": "2023-02-12T12:41:18.855248",
     "status": "completed"
    },
    "tags": []
   },
   "source": [
    "### There is no significant difference between the two groups."
   ]
  },
  {
   "cell_type": "markdown",
   "id": "3ea69030",
   "metadata": {
    "papermill": {
     "duration": 0.027761,
     "end_time": "2023-02-12T12:41:18.943916",
     "exception": false,
     "start_time": "2023-02-12T12:41:18.916155",
     "status": "completed"
    },
    "tags": []
   },
   "source": [
    "# Modeling"
   ]
  },
  {
   "cell_type": "code",
   "execution_count": 38,
   "id": "f5811f29",
   "metadata": {
    "execution": {
     "iopub.execute_input": "2023-02-12T12:41:19.000775Z",
     "iopub.status.busy": "2023-02-12T12:41:19.000368Z",
     "iopub.status.idle": "2023-02-12T12:41:19.330781Z",
     "shell.execute_reply": "2023-02-12T12:41:19.329574Z"
    },
    "papermill": {
     "duration": 0.362165,
     "end_time": "2023-02-12T12:41:19.333583",
     "exception": false,
     "start_time": "2023-02-12T12:41:18.971418",
     "status": "completed"
    },
    "tags": []
   },
   "outputs": [],
   "source": [
    "from sklearn.model_selection import train_test_split\n",
    "from sklearn.model_selection import KFold\n",
    "from sklearn import tree\n",
    "from sklearn.metrics import accuracy_score"
   ]
  },
  {
   "cell_type": "markdown",
   "id": "2b4ae9b6",
   "metadata": {
    "papermill": {
     "duration": 0.027334,
     "end_time": "2023-02-12T12:41:19.388840",
     "exception": false,
     "start_time": "2023-02-12T12:41:19.361506",
     "status": "completed"
    },
    "tags": []
   },
   "source": [
    "### Modeling will be carried out using decision trees.\n",
    "\n",
    "### I wrote the code with the goal of finding the optimal number of roots.Because I haven't studied Random Forest yet :("
   ]
  },
  {
   "cell_type": "code",
   "execution_count": 39,
   "id": "d311a1ae",
   "metadata": {
    "execution": {
     "iopub.execute_input": "2023-02-12T12:41:19.446628Z",
     "iopub.status.busy": "2023-02-12T12:41:19.445722Z",
     "iopub.status.idle": "2023-02-12T12:41:19.453210Z",
     "shell.execute_reply": "2023-02-12T12:41:19.452369Z"
    },
    "papermill": {
     "duration": 0.038715,
     "end_time": "2023-02-12T12:41:19.455457",
     "exception": false,
     "start_time": "2023-02-12T12:41:19.416742",
     "status": "completed"
    },
    "tags": []
   },
   "outputs": [],
   "source": [
    "def encoder(df):\n",
    "    \n",
    "    obj_cols = df.describe(include = 'O').columns.tolist()\n",
    "\n",
    "    for i,var in enumerate(obj_cols):\n",
    "\n",
    "        dummy = df[var].unique()\n",
    "        num = list(range(len(dummy)))\n",
    "\n",
    "        for _ in range(len(dummy)):\n",
    "\n",
    "            df.loc[df[var] == dummy[_],var] = num[_]\n",
    "\n",
    "    return df\n"
   ]
  },
  {
   "cell_type": "markdown",
   "id": "99c6e4a2",
   "metadata": {
    "papermill": {
     "duration": 0.027409,
     "end_time": "2023-02-12T12:41:19.510733",
     "exception": false,
     "start_time": "2023-02-12T12:41:19.483324",
     "status": "completed"
    },
    "tags": []
   },
   "source": [
    "### object columns encoding "
   ]
  },
  {
   "cell_type": "code",
   "execution_count": 40,
   "id": "640ec6c1",
   "metadata": {
    "execution": {
     "iopub.execute_input": "2023-02-12T12:41:19.568393Z",
     "iopub.status.busy": "2023-02-12T12:41:19.567942Z",
     "iopub.status.idle": "2023-02-12T12:41:19.643490Z",
     "shell.execute_reply": "2023-02-12T12:41:19.642306Z"
    },
    "papermill": {
     "duration": 0.10738,
     "end_time": "2023-02-12T12:41:19.645858",
     "exception": false,
     "start_time": "2023-02-12T12:41:19.538478",
     "status": "completed"
    },
    "tags": []
   },
   "outputs": [
    {
     "data": {
      "text/html": [
       "<div>\n",
       "<style scoped>\n",
       "    .dataframe tbody tr th:only-of-type {\n",
       "        vertical-align: middle;\n",
       "    }\n",
       "\n",
       "    .dataframe tbody tr th {\n",
       "        vertical-align: top;\n",
       "    }\n",
       "\n",
       "    .dataframe thead th {\n",
       "        text-align: right;\n",
       "    }\n",
       "</style>\n",
       "<table border=\"1\" class=\"dataframe\">\n",
       "  <thead>\n",
       "    <tr style=\"text-align: right;\">\n",
       "      <th></th>\n",
       "      <th>HomePlanet</th>\n",
       "      <th>CryoSleep</th>\n",
       "      <th>Destination</th>\n",
       "      <th>Age</th>\n",
       "      <th>VIP</th>\n",
       "      <th>RoomService</th>\n",
       "      <th>FoodCourt</th>\n",
       "      <th>ShoppingMall</th>\n",
       "      <th>Spa</th>\n",
       "      <th>VRDeck</th>\n",
       "      <th>Name</th>\n",
       "      <th>Transported</th>\n",
       "      <th>cabin</th>\n",
       "      <th>side</th>\n",
       "      <th>FamilySize</th>\n",
       "    </tr>\n",
       "  </thead>\n",
       "  <tbody>\n",
       "    <tr>\n",
       "      <th>0</th>\n",
       "      <td>0</td>\n",
       "      <td>0.0</td>\n",
       "      <td>0</td>\n",
       "      <td>39.0</td>\n",
       "      <td>0.0</td>\n",
       "      <td>0.0</td>\n",
       "      <td>0.0</td>\n",
       "      <td>0.0</td>\n",
       "      <td>0.0</td>\n",
       "      <td>0.0</td>\n",
       "      <td>2</td>\n",
       "      <td>0.0</td>\n",
       "      <td>0</td>\n",
       "      <td>0</td>\n",
       "      <td>1</td>\n",
       "    </tr>\n",
       "    <tr>\n",
       "      <th>1</th>\n",
       "      <td>1</td>\n",
       "      <td>0.0</td>\n",
       "      <td>0</td>\n",
       "      <td>24.0</td>\n",
       "      <td>0.0</td>\n",
       "      <td>109.0</td>\n",
       "      <td>9.0</td>\n",
       "      <td>25.0</td>\n",
       "      <td>549.0</td>\n",
       "      <td>44.0</td>\n",
       "      <td>2</td>\n",
       "      <td>1.0</td>\n",
       "      <td>1</td>\n",
       "      <td>1</td>\n",
       "      <td>1</td>\n",
       "    </tr>\n",
       "    <tr>\n",
       "      <th>2</th>\n",
       "      <td>0</td>\n",
       "      <td>0.0</td>\n",
       "      <td>0</td>\n",
       "      <td>58.0</td>\n",
       "      <td>1.0</td>\n",
       "      <td>43.0</td>\n",
       "      <td>3576.0</td>\n",
       "      <td>0.0</td>\n",
       "      <td>6715.0</td>\n",
       "      <td>49.0</td>\n",
       "      <td>1</td>\n",
       "      <td>0.0</td>\n",
       "      <td>2</td>\n",
       "      <td>1</td>\n",
       "      <td>2</td>\n",
       "    </tr>\n",
       "    <tr>\n",
       "      <th>3</th>\n",
       "      <td>0</td>\n",
       "      <td>0.0</td>\n",
       "      <td>0</td>\n",
       "      <td>33.0</td>\n",
       "      <td>0.0</td>\n",
       "      <td>0.0</td>\n",
       "      <td>1283.0</td>\n",
       "      <td>371.0</td>\n",
       "      <td>3329.0</td>\n",
       "      <td>193.0</td>\n",
       "      <td>1</td>\n",
       "      <td>0.0</td>\n",
       "      <td>2</td>\n",
       "      <td>1</td>\n",
       "      <td>2</td>\n",
       "    </tr>\n",
       "    <tr>\n",
       "      <th>4</th>\n",
       "      <td>1</td>\n",
       "      <td>0.0</td>\n",
       "      <td>0</td>\n",
       "      <td>16.0</td>\n",
       "      <td>0.0</td>\n",
       "      <td>303.0</td>\n",
       "      <td>70.0</td>\n",
       "      <td>151.0</td>\n",
       "      <td>565.0</td>\n",
       "      <td>2.0</td>\n",
       "      <td>2</td>\n",
       "      <td>1.0</td>\n",
       "      <td>1</td>\n",
       "      <td>1</td>\n",
       "      <td>1</td>\n",
       "    </tr>\n",
       "    <tr>\n",
       "      <th>...</th>\n",
       "      <td>...</td>\n",
       "      <td>...</td>\n",
       "      <td>...</td>\n",
       "      <td>...</td>\n",
       "      <td>...</td>\n",
       "      <td>...</td>\n",
       "      <td>...</td>\n",
       "      <td>...</td>\n",
       "      <td>...</td>\n",
       "      <td>...</td>\n",
       "      <td>...</td>\n",
       "      <td>...</td>\n",
       "      <td>...</td>\n",
       "      <td>...</td>\n",
       "      <td>...</td>\n",
       "    </tr>\n",
       "    <tr>\n",
       "      <th>8688</th>\n",
       "      <td>0</td>\n",
       "      <td>0.0</td>\n",
       "      <td>2</td>\n",
       "      <td>41.0</td>\n",
       "      <td>1.0</td>\n",
       "      <td>0.0</td>\n",
       "      <td>6819.0</td>\n",
       "      <td>0.0</td>\n",
       "      <td>1643.0</td>\n",
       "      <td>74.0</td>\n",
       "      <td>2</td>\n",
       "      <td>0.0</td>\n",
       "      <td>2</td>\n",
       "      <td>0</td>\n",
       "      <td>1</td>\n",
       "    </tr>\n",
       "    <tr>\n",
       "      <th>8689</th>\n",
       "      <td>1</td>\n",
       "      <td>1.0</td>\n",
       "      <td>1</td>\n",
       "      <td>18.0</td>\n",
       "      <td>0.0</td>\n",
       "      <td>0.0</td>\n",
       "      <td>0.0</td>\n",
       "      <td>0.0</td>\n",
       "      <td>0.0</td>\n",
       "      <td>0.0</td>\n",
       "      <td>2</td>\n",
       "      <td>0.0</td>\n",
       "      <td>3</td>\n",
       "      <td>1</td>\n",
       "      <td>1</td>\n",
       "    </tr>\n",
       "    <tr>\n",
       "      <th>8690</th>\n",
       "      <td>1</td>\n",
       "      <td>0.0</td>\n",
       "      <td>0</td>\n",
       "      <td>26.0</td>\n",
       "      <td>0.0</td>\n",
       "      <td>0.0</td>\n",
       "      <td>0.0</td>\n",
       "      <td>1872.0</td>\n",
       "      <td>1.0</td>\n",
       "      <td>0.0</td>\n",
       "      <td>1</td>\n",
       "      <td>1.0</td>\n",
       "      <td>3</td>\n",
       "      <td>1</td>\n",
       "      <td>1</td>\n",
       "    </tr>\n",
       "    <tr>\n",
       "      <th>8691</th>\n",
       "      <td>0</td>\n",
       "      <td>0.0</td>\n",
       "      <td>2</td>\n",
       "      <td>32.0</td>\n",
       "      <td>0.0</td>\n",
       "      <td>0.0</td>\n",
       "      <td>1049.0</td>\n",
       "      <td>0.0</td>\n",
       "      <td>353.0</td>\n",
       "      <td>3235.0</td>\n",
       "      <td>1</td>\n",
       "      <td>0.0</td>\n",
       "      <td>4</td>\n",
       "      <td>1</td>\n",
       "      <td>2</td>\n",
       "    </tr>\n",
       "    <tr>\n",
       "      <th>8692</th>\n",
       "      <td>0</td>\n",
       "      <td>0.0</td>\n",
       "      <td>0</td>\n",
       "      <td>44.0</td>\n",
       "      <td>0.0</td>\n",
       "      <td>126.0</td>\n",
       "      <td>4688.0</td>\n",
       "      <td>0.0</td>\n",
       "      <td>0.0</td>\n",
       "      <td>12.0</td>\n",
       "      <td>1</td>\n",
       "      <td>1.0</td>\n",
       "      <td>4</td>\n",
       "      <td>1</td>\n",
       "      <td>2</td>\n",
       "    </tr>\n",
       "  </tbody>\n",
       "</table>\n",
       "<p>8693 rows × 15 columns</p>\n",
       "</div>"
      ],
      "text/plain": [
       "     HomePlanet  CryoSleep Destination   Age  VIP  RoomService  FoodCourt  \\\n",
       "0             0        0.0           0  39.0  0.0          0.0        0.0   \n",
       "1             1        0.0           0  24.0  0.0        109.0        9.0   \n",
       "2             0        0.0           0  58.0  1.0         43.0     3576.0   \n",
       "3             0        0.0           0  33.0  0.0          0.0     1283.0   \n",
       "4             1        0.0           0  16.0  0.0        303.0       70.0   \n",
       "...         ...        ...         ...   ...  ...          ...        ...   \n",
       "8688          0        0.0           2  41.0  1.0          0.0     6819.0   \n",
       "8689          1        1.0           1  18.0  0.0          0.0        0.0   \n",
       "8690          1        0.0           0  26.0  0.0          0.0        0.0   \n",
       "8691          0        0.0           2  32.0  0.0          0.0     1049.0   \n",
       "8692          0        0.0           0  44.0  0.0        126.0     4688.0   \n",
       "\n",
       "      ShoppingMall     Spa  VRDeck Name  Transported cabin side  FamilySize  \n",
       "0              0.0     0.0     0.0    2          0.0     0    0           1  \n",
       "1             25.0   549.0    44.0    2          1.0     1    1           1  \n",
       "2              0.0  6715.0    49.0    1          0.0     2    1           2  \n",
       "3            371.0  3329.0   193.0    1          0.0     2    1           2  \n",
       "4            151.0   565.0     2.0    2          1.0     1    1           1  \n",
       "...            ...     ...     ...  ...          ...   ...  ...         ...  \n",
       "8688           0.0  1643.0    74.0    2          0.0     2    0           1  \n",
       "8689           0.0     0.0     0.0    2          0.0     3    1           1  \n",
       "8690        1872.0     1.0     0.0    1          1.0     3    1           1  \n",
       "8691           0.0   353.0  3235.0    1          0.0     4    1           2  \n",
       "8692           0.0     0.0    12.0    1          1.0     4    1           2  \n",
       "\n",
       "[8693 rows x 15 columns]"
      ]
     },
     "execution_count": 40,
     "metadata": {},
     "output_type": "execute_result"
    }
   ],
   "source": [
    "train = encoder(train)\n",
    "train"
   ]
  },
  {
   "cell_type": "markdown",
   "id": "6a8b67b2",
   "metadata": {
    "papermill": {
     "duration": 0.028442,
     "end_time": "2023-02-12T12:41:19.702316",
     "exception": false,
     "start_time": "2023-02-12T12:41:19.673874",
     "status": "completed"
    },
    "tags": []
   },
   "source": [
    "### After dividing into 10 validation sets, the test was repeated until the depth reached 20.\n",
    "\n",
    "### As a result, 10 * 20, a total of 200 tests are conducted, and the optimal root depth is found by averaging the scores for each root depth."
   ]
  },
  {
   "cell_type": "code",
   "execution_count": 41,
   "id": "43a0691d",
   "metadata": {
    "execution": {
     "iopub.execute_input": "2023-02-12T12:41:19.761190Z",
     "iopub.status.busy": "2023-02-12T12:41:19.760770Z",
     "iopub.status.idle": "2023-02-12T12:41:28.723041Z",
     "shell.execute_reply": "2023-02-12T12:41:28.721178Z"
    },
    "papermill": {
     "duration": 8.997361,
     "end_time": "2023-02-12T12:41:28.728371",
     "exception": false,
     "start_time": "2023-02-12T12:41:19.731010",
     "status": "completed"
    },
    "tags": []
   },
   "outputs": [
    {
     "data": {
      "text/plain": [
       "[0.7182789042762854,\n",
       " 0.7182789042762854,\n",
       " 0.7090799306905811,\n",
       " 0.7655684298242134,\n",
       " 0.7714347314260016,\n",
       " 0.7776451992645794,\n",
       " 0.7717763845350053,\n",
       " 0.7768378238958772,\n",
       " 0.7777570995859954,\n",
       " 0.7793686758461965,\n",
       " 0.7764907477216513,\n",
       " 0.7744215176646431,\n",
       " 0.7685546869833209,\n",
       " 0.7647613189952779,\n",
       " 0.7610791899792336,\n",
       " 0.7547513987540178,\n",
       " 0.7508395169503856,\n",
       " 0.7498018597145617,\n",
       " 0.7450869674483817,\n",
       " 0.7388730605928336]"
      ]
     },
     "execution_count": 41,
     "metadata": {},
     "output_type": "execute_result"
    }
   ],
   "source": [
    "cv = KFold(n_splits = 10)\n",
    "\n",
    "max_depth = 20\n",
    "avg_score = []\n",
    "\n",
    "for depth in range(1,max_depth+1):\n",
    "    \n",
    "    score = []\n",
    "    \n",
    "    model = tree.DecisionTreeClassifier(max_depth = depth)\n",
    "    \n",
    "    for v_train,v_test in cv.split(train):\n",
    "        \n",
    "        v_train_feature = train.iloc[v_train].drop('Transported',axis = 1)\n",
    "        v_train_target = train.iloc[v_train]['Transported']\n",
    "        \n",
    "        v_test_feature = train.iloc[v_test].drop('Transported',axis = 1)\n",
    "        v_test_target = train.iloc[v_test]['Transported']\n",
    "        \n",
    "        model.fit(v_train_feature,v_train_target)\n",
    "        \n",
    "        predict = model.predict(v_test_feature)\n",
    "        \n",
    "        score.append(accuracy_score(v_test_target,predict))\n",
    "        \n",
    "    avg_score.append (sum(score) / len(score))\n",
    "    \n",
    "\n",
    "avg_score"
   ]
  },
  {
   "cell_type": "markdown",
   "id": "8dcfe5a1",
   "metadata": {
    "papermill": {
     "duration": 0.03318,
     "end_time": "2023-02-12T12:41:28.795380",
     "exception": false,
     "start_time": "2023-02-12T12:41:28.762200",
     "status": "completed"
    },
    "tags": []
   },
   "source": [
    "### In the current list, each row is the average score for 10 tests when the root depth is n."
   ]
  },
  {
   "cell_type": "code",
   "execution_count": 42,
   "id": "6da0fcce",
   "metadata": {
    "execution": {
     "iopub.execute_input": "2023-02-12T12:41:28.856985Z",
     "iopub.status.busy": "2023-02-12T12:41:28.856133Z",
     "iopub.status.idle": "2023-02-12T12:41:29.177022Z",
     "shell.execute_reply": "2023-02-12T12:41:29.175941Z"
    },
    "papermill": {
     "duration": 0.355532,
     "end_time": "2023-02-12T12:41:29.179921",
     "exception": false,
     "start_time": "2023-02-12T12:41:28.824389",
     "status": "completed"
    },
    "tags": []
   },
   "outputs": [
    {
     "data": {
      "text/plain": [
       "Text(0.5, 1.0, 'Best Depth is 9\\n score : max(avg_score)')"
      ]
     },
     "execution_count": 42,
     "metadata": {},
     "output_type": "execute_result"
    },
    {
     "data": {
      "image/png": "[encoded data removed]",
      "text/plain": [
       "<Figure size 1008x504 with 1 Axes>"
      ]
     },
     "metadata": {},
     "output_type": "display_data"
    }
   ],
   "source": [
    "plt.figure(figsize = [14,7])\n",
    "plt.plot(avg_score, c = 'purple')\n",
    "plt.axvline(x = avg_score.index(max(avg_score)), label = avg_score.index(max(avg_score)), c = 'green', ls = '--')\n",
    "plt.axhline(y = max(avg_score), label = max(avg_score), c = 'green', ls = '--')\n",
    "plt.legend()\n",
    "plt.title(f'Best Depth is {avg_score.index(max(avg_score))}\\n score : max(avg_score)')"
   ]
  },
  {
   "cell_type": "markdown",
   "id": "f79c88d2",
   "metadata": {
    "papermill": {
     "duration": 0.029808,
     "end_time": "2023-02-12T12:41:29.252847",
     "exception": false,
     "start_time": "2023-02-12T12:41:29.223039",
     "status": "completed"
    },
    "tags": []
   },
   "source": [
    "### As a result of the training set, the optimal root depth was found to be 9."
   ]
  },
  {
   "cell_type": "markdown",
   "id": "aeca8164",
   "metadata": {
    "papermill": {
     "duration": 0.029593,
     "end_time": "2023-02-12T12:41:29.312406",
     "exception": false,
     "start_time": "2023-02-12T12:41:29.282813",
     "status": "completed"
    },
    "tags": []
   },
   "source": [
    "# Validate on test set"
   ]
  },
  {
   "cell_type": "code",
   "execution_count": 43,
   "id": "4e8fa3d5",
   "metadata": {
    "execution": {
     "iopub.execute_input": "2023-02-12T12:41:29.378112Z",
     "iopub.status.busy": "2023-02-12T12:41:29.377047Z",
     "iopub.status.idle": "2023-02-12T12:41:29.414085Z",
     "shell.execute_reply": "2023-02-12T12:41:29.412374Z"
    },
    "papermill": {
     "duration": 0.074213,
     "end_time": "2023-02-12T12:41:29.416905",
     "exception": false,
     "start_time": "2023-02-12T12:41:29.342692",
     "status": "completed"
    },
    "tags": []
   },
   "outputs": [],
   "source": [
    "test = encoder(test)"
   ]
  },
  {
   "cell_type": "code",
   "execution_count": 44,
   "id": "d681ed80",
   "metadata": {
    "execution": {
     "iopub.execute_input": "2023-02-12T12:41:29.486928Z",
     "iopub.status.busy": "2023-02-12T12:41:29.486140Z",
     "iopub.status.idle": "2023-02-12T12:41:29.543391Z",
     "shell.execute_reply": "2023-02-12T12:41:29.542502Z"
    },
    "papermill": {
     "duration": 0.092691,
     "end_time": "2023-02-12T12:41:29.545860",
     "exception": false,
     "start_time": "2023-02-12T12:41:29.453169",
     "status": "completed"
    },
    "tags": []
   },
   "outputs": [],
   "source": [
    "model = tree.DecisionTreeClassifier(max_depth = 9)\n",
    "\n",
    "model.fit(train.drop('Transported', axis = 1),train['Transported'])\n",
    "\n",
    "\n",
    "predicted_value = model.predict(test.drop('Transported',axis = 1))\n",
    "\n",
    "\n",
    "sample_submission['Transported'] = predicted_value\n",
    "\n",
    "sample_submission['Transported'] = sample_submission['Transported'].map({1 : True,\n",
    "                                                                  0 : False})\n",
    "\n"
   ]
  },
  {
   "cell_type": "code",
   "execution_count": 45,
   "id": "0ff87a5c",
   "metadata": {
    "execution": {
     "iopub.execute_input": "2023-02-12T12:41:29.609728Z",
     "iopub.status.busy": "2023-02-12T12:41:29.609016Z",
     "iopub.status.idle": "2023-02-12T12:41:29.810562Z",
     "shell.execute_reply": "2023-02-12T12:41:29.809766Z"
    },
    "papermill": {
     "duration": 0.236565,
     "end_time": "2023-02-12T12:41:29.812712",
     "exception": false,
     "start_time": "2023-02-12T12:41:29.576147",
     "status": "completed"
    },
    "tags": []
   },
   "outputs": [
    {
     "data": {
      "text/plain": [
       "Text(0.5, 1.0, 'Prediction distribution')"
      ]
     },
     "execution_count": 45,
     "metadata": {},
     "output_type": "execute_result"
    },
    {
     "data": {
      "image/png": "[encoded data removed]",
      "text/plain": [
       "<Figure size 504x504 with 1 Axes>"
      ]
     },
     "metadata": {},
     "output_type": "display_data"
    }
   ],
   "source": [
    "plt.figure(figsize = [7,7])\n",
    "sample_submission['Transported'].value_counts().plot(kind = 'bar')\n",
    "plt.title('Prediction distribution')"
   ]
  },
  {
   "cell_type": "code",
   "execution_count": 46,
   "id": "f72eea86",
   "metadata": {
    "execution": {
     "iopub.execute_input": "2023-02-12T12:41:29.876743Z",
     "iopub.status.busy": "2023-02-12T12:41:29.876047Z",
     "iopub.status.idle": "2023-02-12T12:41:29.895625Z",
     "shell.execute_reply": "2023-02-12T12:41:29.894454Z"
    },
    "papermill": {
     "duration": 0.053469,
     "end_time": "2023-02-12T12:41:29.897932",
     "exception": false,
     "start_time": "2023-02-12T12:41:29.844463",
     "status": "completed"
    },
    "tags": []
   },
   "outputs": [
    {
     "data": {
      "text/html": [
       "<div>\n",
       "<style scoped>\n",
       "    .dataframe tbody tr th:only-of-type {\n",
       "        vertical-align: middle;\n",
       "    }\n",
       "\n",
       "    .dataframe tbody tr th {\n",
       "        vertical-align: top;\n",
       "    }\n",
       "\n",
       "    .dataframe thead th {\n",
       "        text-align: right;\n",
       "    }\n",
       "</style>\n",
       "<table border=\"1\" class=\"dataframe\">\n",
       "  <thead>\n",
       "    <tr style=\"text-align: right;\">\n",
       "      <th></th>\n",
       "      <th>PassengerId</th>\n",
       "      <th>Transported</th>\n",
       "    </tr>\n",
       "  </thead>\n",
       "  <tbody>\n",
       "    <tr>\n",
       "      <th>0</th>\n",
       "      <td>0013_01</td>\n",
       "      <td>True</td>\n",
       "    </tr>\n",
       "    <tr>\n",
       "      <th>1</th>\n",
       "      <td>0018_01</td>\n",
       "      <td>False</td>\n",
       "    </tr>\n",
       "    <tr>\n",
       "      <th>2</th>\n",
       "      <td>0019_01</td>\n",
       "      <td>True</td>\n",
       "    </tr>\n",
       "    <tr>\n",
       "      <th>3</th>\n",
       "      <td>0021_01</td>\n",
       "      <td>True</td>\n",
       "    </tr>\n",
       "    <tr>\n",
       "      <th>4</th>\n",
       "      <td>0023_01</td>\n",
       "      <td>True</td>\n",
       "    </tr>\n",
       "    <tr>\n",
       "      <th>...</th>\n",
       "      <td>...</td>\n",
       "      <td>...</td>\n",
       "    </tr>\n",
       "    <tr>\n",
       "      <th>4272</th>\n",
       "      <td>9266_02</td>\n",
       "      <td>True</td>\n",
       "    </tr>\n",
       "    <tr>\n",
       "      <th>4273</th>\n",
       "      <td>9269_01</td>\n",
       "      <td>False</td>\n",
       "    </tr>\n",
       "    <tr>\n",
       "      <th>4274</th>\n",
       "      <td>9271_01</td>\n",
       "      <td>False</td>\n",
       "    </tr>\n",
       "    <tr>\n",
       "      <th>4275</th>\n",
       "      <td>9273_01</td>\n",
       "      <td>False</td>\n",
       "    </tr>\n",
       "    <tr>\n",
       "      <th>4276</th>\n",
       "      <td>9277_01</td>\n",
       "      <td>True</td>\n",
       "    </tr>\n",
       "  </tbody>\n",
       "</table>\n",
       "<p>4277 rows × 2 columns</p>\n",
       "</div>"
      ],
      "text/plain": [
       "     PassengerId  Transported\n",
       "0        0013_01         True\n",
       "1        0018_01        False\n",
       "2        0019_01         True\n",
       "3        0021_01         True\n",
       "4        0023_01         True\n",
       "...          ...          ...\n",
       "4272     9266_02         True\n",
       "4273     9269_01        False\n",
       "4274     9271_01        False\n",
       "4275     9273_01        False\n",
       "4276     9277_01         True\n",
       "\n",
       "[4277 rows x 2 columns]"
      ]
     },
     "execution_count": 46,
     "metadata": {},
     "output_type": "execute_result"
    }
   ],
   "source": [
    "sample_submission.to_csv('submission.csv',index = False)\n",
    "sample_submission"
   ]
  }
 ],
 "metadata": {
  "kernelspec": {
   "display_name": "Python 3",
   "language": "python",
   "name": "python3"
  },
  "language_info": {
   "codemirror_mode": {
    "name": "ipython",
    "version": 3
   },
   "file_extension": ".py",
   "mimetype": "text/x-python",
   "name": "python",
   "nbconvert_exporter": "python",
   "pygments_lexer": "ipython3",
   "version": "3.7.12"
  },
  "papermill": {
   "default_parameters": {},
   "duration": 49.949569,
   "end_time": "2023-02-12T12:41:30.751037",
   "environment_variables": {},
   "exception": null,
   "input_path": "__notebook__.ipynb",
   "output_path": "__notebook__.ipynb",
   "parameters": {},
   "start_time": "2023-02-12T12:40:40.801468",
   "version": "2.3.4"
  }
 },
 "nbformat": 4,
 "nbformat_minor": 5
}
